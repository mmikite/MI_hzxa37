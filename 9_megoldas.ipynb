{
  "nbformat": 4,
  "nbformat_minor": 0,
  "metadata": {
    "colab": {
      "provenance": [],
      "collapsed_sections": [
        "PvwFEH1hL2S9"
      ],
      "include_colab_link": true
    },
    "kernelspec": {
      "name": "python3",
      "display_name": "Python 3"
    }
  },
  "cells": [
    {
      "cell_type": "markdown",
      "metadata": {
        "id": "view-in-github",
        "colab_type": "text"
      },
      "source": [
        "<a href=\"https://colab.research.google.com/github/mmikite/MI_hzxa37/blob/main/9_megoldas.ipynb\" target=\"_parent\"><img src=\"https://colab.research.google.com/assets/colab-badge.svg\" alt=\"Open In Colab\"/></a>"
      ]
    },
    {
      "cell_type": "markdown",
      "metadata": {
        "id": "Lw6WUXlAEuVf"
      },
      "source": [
        "# spaCy"
      ]
    },
    {
      "cell_type": "markdown",
      "metadata": {
        "id": "wDTclstPFDKK"
      },
      "source": [
        "Töltsük be a [spaCy](https://spacy.io/usage/spacy-101) nyelvi modulját, ami elvégzi egy szöveg feldolgozását. Ez ma a legjobb nyelvtechnológiai előfeldolgozó eszköz."
      ]
    },
    {
      "cell_type": "code",
      "metadata": {
        "id": "cd6qEEuEfJWN",
        "colab": {
          "base_uri": "https://localhost:8080/"
        },
        "outputId": "84f723c9-edab-465e-c056-bd78967d162a"
      },
      "source": [
        "import spacy\n",
        "print (spacy.__version__)"
      ],
      "execution_count": null,
      "outputs": [
        {
          "output_type": "stream",
          "name": "stdout",
          "text": [
            "3.8.5\n"
          ]
        }
      ]
    },
    {
      "cell_type": "code",
      "source": [
        "!python -m spacy download en_core_web_sm"
      ],
      "metadata": {
        "colab": {
          "base_uri": "https://localhost:8080/"
        },
        "id": "nKwufAv5D4kg",
        "outputId": "4b13c0ee-1483-4ffc-fddd-16df7195115b"
      },
      "execution_count": null,
      "outputs": [
        {
          "output_type": "stream",
          "name": "stdout",
          "text": [
            "Collecting en-core-web-sm==3.8.0\n",
            "  Downloading https://github.com/explosion/spacy-models/releases/download/en_core_web_sm-3.8.0/en_core_web_sm-3.8.0-py3-none-any.whl (12.8 MB)\n",
            "\u001b[2K     \u001b[90m━━━━━━━━━━━━━━━━━━━━━━━━━━━━━━━━━━━━━━━━\u001b[0m \u001b[32m12.8/12.8 MB\u001b[0m \u001b[31m56.0 MB/s\u001b[0m eta \u001b[36m0:00:00\u001b[0m\n",
            "\u001b[?25h\u001b[38;5;2m✔ Download and installation successful\u001b[0m\n",
            "You can now load the package via spacy.load('en_core_web_sm')\n",
            "\u001b[38;5;3m⚠ Restart to reload dependencies\u001b[0m\n",
            "If you are in a Jupyter or Colab notebook, you may need to restart Python in\n",
            "order to load all the package's dependencies. You can do this by selecting the\n",
            "'Restart kernel' or 'Restart runtime' option.\n"
          ]
        }
      ]
    },
    {
      "cell_type": "code",
      "metadata": {
        "id": "6qgB4_uufR1n"
      },
      "source": [
        "nlp_en = spacy.load(\"en_core_web_sm\")"
      ],
      "execution_count": null,
      "outputs": []
    },
    {
      "cell_type": "markdown",
      "metadata": {
        "id": "2u-9SIH2GYQ_"
      },
      "source": [
        "![Spacy pipeline](https://spacy.io/images/pipeline.svg)"
      ]
    },
    {
      "cell_type": "markdown",
      "metadata": {
        "id": "FbG6aL-XFZHl"
      },
      "source": [
        "Az `nlp` függvény segítségével tudjuk feldolgozni a szöveget, ami egy `Doc` típusú objektumot állít elő. Ebben a `Doc`-ban tárolja el a spaCy a szövegünkből előállítótt tokenlistát és a különböző metaadatokat."
      ]
    },
    {
      "cell_type": "code",
      "metadata": {
        "id": "_TBocRd6fWEt",
        "colab": {
          "base_uri": "https://localhost:8080/"
        },
        "outputId": "974cc1f8-b385-4327-9e76-906f86f61809"
      },
      "source": [
        "doc = nlp_en(\"Human ambition is the key to staying ahead of automation.\")\n",
        "for token in doc:\n",
        "    print(token.text)"
      ],
      "execution_count": null,
      "outputs": [
        {
          "output_type": "stream",
          "name": "stdout",
          "text": [
            "Human\n",
            "ambition\n",
            "is\n",
            "the\n",
            "key\n",
            "to\n",
            "staying\n",
            "ahead\n",
            "of\n",
            "automation\n",
            ".\n"
          ]
        }
      ]
    },
    {
      "cell_type": "markdown",
      "source": [
        "# Tokenizálás"
      ],
      "metadata": {
        "id": "cVrKfrO8bL4D"
      }
    },
    {
      "cell_type": "markdown",
      "source": [
        "![Token](https://raw.githubusercontent.com/SzaboGergo01/student-data/main/NLP/token_figure_2.svg)"
      ],
      "metadata": {
        "id": "aHXCpEB_GfxS"
      }
    },
    {
      "cell_type": "markdown",
      "source": [],
      "metadata": {
        "id": "hJisg85GGP7b"
      }
    },
    {
      "cell_type": "code",
      "metadata": {
        "id": "WFHSVBsh_STq",
        "colab": {
          "base_uri": "https://localhost:8080/"
        },
        "outputId": "22f9c1da-2efd-4f3a-d651-65988ee0484d"
      },
      "source": [
        "doc = nlp_en(\"Let's go to New York!\")\n",
        "print(doc)\n",
        "for token in doc:\n",
        "    print(token.text)\n"
      ],
      "execution_count": null,
      "outputs": [
        {
          "output_type": "stream",
          "name": "stdout",
          "text": [
            "Let's go to New York!\n",
            "Let\n",
            "'s\n",
            "go\n",
            "to\n",
            "New\n",
            "York\n",
            "!\n"
          ]
        }
      ]
    },
    {
      "cell_type": "markdown",
      "metadata": {
        "id": "CYZ_-XR4Fm8O"
      },
      "source": [
        "Mennyire kezeli a rövidítéseket? A \"N.Y.\" stringet ugyanúgy kezeli mint a \"New York\"-ot? Próbáljuk ki más rövidítésekkel!"
      ]
    },
    {
      "cell_type": "code",
      "metadata": {
        "id": "RejuLbdXDNwp",
        "colab": {
          "base_uri": "https://localhost:8080/"
        },
        "outputId": "e114b60f-edfd-4891-ddc5-5a934fb13ad4"
      },
      "source": [
        "doc = nlp_en(\"Let's go to N. Y.!\")\n",
        "print(doc)\n",
        "for token in doc:\n",
        "    print(token.text)\n"
      ],
      "execution_count": null,
      "outputs": [
        {
          "output_type": "stream",
          "name": "stdout",
          "text": [
            "Let's go to N. Y.!\n",
            "Let\n",
            "'s\n",
            "go\n",
            "to\n",
            "N.\n",
            "Y.\n",
            "!\n"
          ]
        }
      ]
    },
    {
      "cell_type": "markdown",
      "metadata": {
        "id": "T2jio5X7MSiT"
      },
      "source": [
        "Mit kezd a spacy egy magyar mondattal?"
      ]
    },
    {
      "cell_type": "code",
      "metadata": {
        "id": "JBssJaBu9qke",
        "colab": {
          "base_uri": "https://localhost:8080/"
        },
        "outputId": "1706ad50-1309-46e4-d3a4-a87a3c7eaa47"
      },
      "source": [
        "doc = nlp_en('Ez egy egyszerű magyar mondat.')\n",
        "for token in doc:\n",
        "    print(token.text)"
      ],
      "execution_count": null,
      "outputs": [
        {
          "output_type": "stream",
          "name": "stdout",
          "text": [
            "Ez\n",
            "egy\n",
            "egyszerű\n",
            "magyar\n",
            "mondat\n",
            ".\n"
          ]
        }
      ]
    },
    {
      "cell_type": "code",
      "metadata": {
        "id": "bzf3Y-nekNIq",
        "colab": {
          "base_uri": "https://localhost:8080/"
        },
        "outputId": "4270d45d-31f8-4d3e-f354-84be3ae5f67f"
      },
      "source": [
        "doc = nlp_en('Lehet-e az, hogy az U.S.A. 2021. március 15-én bejelent valamit?')\n",
        "for token in doc:\n",
        "    print(token.text)"
      ],
      "execution_count": null,
      "outputs": [
        {
          "output_type": "stream",
          "name": "stdout",
          "text": [
            "Lehet\n",
            "-\n",
            "e\n",
            "az\n",
            ",\n",
            "hogy\n",
            "az\n",
            "U.S.A.\n",
            "2021\n",
            ".\n",
            "március\n",
            "15\n",
            "-\n",
            "én\n",
            "bejelent\n",
            "valamit\n",
            "?\n"
          ]
        }
      ]
    },
    {
      "cell_type": "markdown",
      "metadata": {
        "id": "8bwG4Oz6FAJ1"
      },
      "source": [
        "## Speciális tokenizációs szabályok\n",
        "Nem standard tokenek felismerése pl. emoji ([spacymoji](https://spacy.io/universe/project/spacymoji)), pénznem, összetett kifejezések...\n",
        "\n",
        "---\n",
        "\n"
      ]
    },
    {
      "cell_type": "code",
      "metadata": {
        "id": "L3g_D1w8FPmK",
        "colab": {
          "base_uri": "https://localhost:8080/"
        },
        "outputId": "ce0f76e4-82a2-457a-a518-2dcb40bac35e"
      },
      "source": [
        "doc = nlp_en(\"Hello bright world :)\")\n",
        "print([token.text for token in doc])"
      ],
      "execution_count": null,
      "outputs": [
        {
          "output_type": "stream",
          "name": "stdout",
          "text": [
            "['Hello', 'bright', 'world', ':)']\n"
          ]
        }
      ]
    },
    {
      "cell_type": "code",
      "metadata": {
        "id": "-dS88mLpIGdI",
        "colab": {
          "base_uri": "https://localhost:8080/"
        },
        "outputId": "4d352d23-06d9-4868-fd5c-793bd2b74d30"
      },
      "source": [
        "doc = nlp_en(\"Hello, I am non-vegetarian, email me the menu at abc-xyz@gmail.com\")\n",
        "print([token.text for token in doc])"
      ],
      "execution_count": null,
      "outputs": [
        {
          "output_type": "stream",
          "name": "stdout",
          "text": [
            "['Hello', ',', 'I', 'am', 'non', '-', 'vegetarian', ',', 'email', 'me', 'the', 'menu', 'at', 'abc-xyz@gmail.com']\n"
          ]
        }
      ]
    },
    {
      "cell_type": "code",
      "metadata": {
        "id": "4D2fGyltIQ0G",
        "colab": {
          "base_uri": "https://localhost:8080/"
        },
        "outputId": "cf3597b7-7765-43fc-80c3-5bf896b4cff0"
      },
      "source": [
        "doc = nlp_en('They\\'re leaving U.K. for U.S.A.')\n",
        "print([token.text for token in doc])"
      ],
      "execution_count": null,
      "outputs": [
        {
          "output_type": "stream",
          "name": "stdout",
          "text": [
            "['They', \"'re\", 'leaving', 'U.K.', 'for', 'U.S.A.']\n"
          ]
        }
      ]
    },
    {
      "cell_type": "code",
      "metadata": {
        "id": "q6LXjDeAPol6",
        "colab": {
          "base_uri": "https://localhost:8080/"
        },
        "outputId": "848fe0df-dc37-404e-cc0e-3c87090a15d8"
      },
      "source": [
        "doc = nlp_en('The price is $45.55.')\n",
        "print([token.text for token in doc])"
      ],
      "execution_count": null,
      "outputs": [
        {
          "output_type": "stream",
          "name": "stdout",
          "text": [
            "['The', 'price', 'is', '$', '45.55', '.']\n"
          ]
        }
      ]
    },
    {
      "cell_type": "markdown",
      "metadata": {
        "id": "mAqOV-yrLldr"
      },
      "source": [
        "# Többnyelvű spaCy pipeline\n",
        "A magyar nyelv alapértelmezetten nem támogatott, de van két megoldás is:\n",
        "*   HuSpaCy   \n",
        "*   Többnyelvű csomag Wikipedia szövegekre építve."
      ]
    },
    {
      "cell_type": "code",
      "metadata": {
        "id": "amTgcTuiKG9E",
        "colab": {
          "base_uri": "https://localhost:8080/"
        },
        "outputId": "82338939-eb51-4ffc-9a33-5211c0e76c32"
      },
      "source": [
        "!python -m spacy download xx_ent_wiki_sm"
      ],
      "execution_count": null,
      "outputs": [
        {
          "output_type": "stream",
          "name": "stdout",
          "text": [
            "Collecting xx-ent-wiki-sm==3.8.0\n",
            "  Downloading https://github.com/explosion/spacy-models/releases/download/xx_ent_wiki_sm-3.8.0/xx_ent_wiki_sm-3.8.0-py3-none-any.whl (11.1 MB)\n",
            "\u001b[2K     \u001b[90m━━━━━━━━━━━━━━━━━━━━━━━━━━━━━━━━━━━━━━━━\u001b[0m \u001b[32m11.1/11.1 MB\u001b[0m \u001b[31m57.1 MB/s\u001b[0m eta \u001b[36m0:00:00\u001b[0m\n",
            "\u001b[?25h\u001b[38;5;2m✔ Download and installation successful\u001b[0m\n",
            "You can now load the package via spacy.load('xx_ent_wiki_sm')\n",
            "\u001b[38;5;3m⚠ Restart to reload dependencies\u001b[0m\n",
            "If you are in a Jupyter or Colab notebook, you may need to restart Python in\n",
            "order to load all the package's dependencies. You can do this by selecting the\n",
            "'Restart kernel' or 'Restart runtime' option.\n"
          ]
        }
      ]
    },
    {
      "cell_type": "code",
      "metadata": {
        "id": "lA68afNiLbSE"
      },
      "source": [
        "import xx_ent_wiki_sm\n",
        "nlp_xx = xx_ent_wiki_sm.load()"
      ],
      "execution_count": null,
      "outputs": []
    },
    {
      "cell_type": "code",
      "metadata": {
        "id": "v6T5nH-fLhv7",
        "colab": {
          "base_uri": "https://localhost:8080/"
        },
        "outputId": "6fa63f80-d3b7-4b00-ca45-a48e183952f6"
      },
      "source": [
        "doc_xx = nlp_xx('Lehet-e az, hogy az U.S.A. 2021. március 15-én bejelent valamit?')\n",
        "print([token.text for token in doc_xx])"
      ],
      "execution_count": null,
      "outputs": [
        {
          "output_type": "stream",
          "name": "stdout",
          "text": [
            "['Lehet', '-', 'e', 'az', ',', 'hogy', 'az', 'U.S.A.', '2021', '.', 'március', '15-én', 'bejelent', 'valamit', '?']\n"
          ]
        }
      ]
    },
    {
      "cell_type": "markdown",
      "metadata": {
        "id": "5OGlMPQf5bAQ"
      },
      "source": [
        "# HuSpaCy\n",
        "\n",
        "https://github.com/huspacy/huspacy\n",
        "\n",
        "https://huggingface.co/spaces/huspacy/demo\n",
        "\n",
        "https://huggingface.co/spaces/huspacy/example-applications\n"
      ]
    },
    {
      "cell_type": "code",
      "metadata": {
        "id": "djlEbL7vjgON",
        "colab": {
          "base_uri": "https://localhost:8080/"
        },
        "outputId": "07de6b47-6acc-452e-d697-3e298b67404f"
      },
      "source": [
        "!pip install huspacy"
      ],
      "execution_count": null,
      "outputs": [
        {
          "output_type": "stream",
          "name": "stdout",
          "text": [
            "Requirement already satisfied: huspacy in /usr/local/lib/python3.11/dist-packages (0.12.1)\n",
            "Requirement already satisfied: packaging<22.0,>=21.3 in /usr/local/lib/python3.11/dist-packages (from huspacy) (21.3)\n",
            "Requirement already satisfied: pyparsing!=3.0.5,>=2.0.2 in /usr/local/lib/python3.11/dist-packages (from packaging<22.0,>=21.3->huspacy) (3.2.3)\n"
          ]
        }
      ]
    },
    {
      "cell_type": "code",
      "metadata": {
        "id": "WAxFuELRH_AH",
        "colab": {
          "base_uri": "https://localhost:8080/"
        },
        "outputId": "295868d8-ac81-4565-ccd5-bc9a325d753a"
      },
      "source": [
        "import huspacy\n",
        "\n",
        "huspacy.download()\n",
        "\n",
        "nlp_hu = spacy.load(\"hu_core_news_lg\")\n",
        "nlp_en = spacy.load(\"en_core_web_sm\")"
      ],
      "execution_count": null,
      "outputs": [
        {
          "output_type": "stream",
          "name": "stdout",
          "text": [
            "['/usr/bin/python3', '-m', 'pip', 'install', 'hu_core_news_lg @ https://huggingface.co/huspacy/hu_core_news_lg/resolve/v3.8.0/hu_core_news_lg-any-py3-none-any.whl']\n"
          ]
        }
      ]
    },
    {
      "cell_type": "code",
      "source": [
        "doc = nlp_hu(\"AZ első számítógép súlya kb. 30 tonna volt.\")\n",
        "print([token.text for token in doc])"
      ],
      "metadata": {
        "id": "EAkHtLwSf_w6",
        "colab": {
          "base_uri": "https://localhost:8080/"
        },
        "outputId": "95754d87-e3d6-4000-b5da-f2bf1385a29e"
      },
      "execution_count": null,
      "outputs": [
        {
          "output_type": "stream",
          "name": "stdout",
          "text": [
            "['AZ', 'első', 'számítógép', 'súlya', 'kb.', '30', 'tonna', 'volt', '.']\n"
          ]
        }
      ]
    },
    {
      "cell_type": "markdown",
      "metadata": {
        "id": "nwF00VHKGUMt"
      },
      "source": [
        "  `token`: több mint egy string, vannak tulajdonságai.\n",
        "`Token` típusú osztály, mint egy String, azonban több [attribútuma](https://spacy.io/api/token#attributes) is van."
      ]
    },
    {
      "cell_type": "code",
      "metadata": {
        "id": "BRIRsQ-3IGt9",
        "colab": {
          "base_uri": "https://localhost:8080/"
        },
        "outputId": "f6f884b8-cadd-46e7-caf8-f5174945249c"
      },
      "source": [
        "doc = nlp_hu('AZ első, számítógép súlya kb. 30 tonna volt.')\n",
        "for token in doc:\n",
        "    print(\n",
        "        token.text\n",
        "        + (14 - len(token.text)) * \" \"\n",
        "        + token.text_with_ws\n",
        "        + (14 - len(token.text_with_ws)) * \" \"\n",
        "        + str(token.is_alpha)\n",
        "        + (7 - len(str(token.is_alpha))) * \" \"\n",
        "        + str(token.is_digit)\n",
        "        + (7 - len(str(token.is_digit))) * \" \"\n",
        "        + str(token.is_upper)\n",
        "        + (7 - len(str(token.is_upper))) * \" \"\n",
        "        + str(token.i)\n",
        "    )"
      ],
      "execution_count": null,
      "outputs": [
        {
          "output_type": "stream",
          "name": "stdout",
          "text": [
            "AZ            AZ            True   False  True   0\n",
            "első          első          True   False  False  1\n",
            ",             ,             False  False  False  2\n",
            "számítógép    számítógép    True   False  False  3\n",
            "súlya         súlya         True   False  False  4\n",
            "kb.           kb.           False  False  False  5\n",
            "30            30            False  True   False  6\n",
            "tonna         tonna         True   False  False  7\n",
            "volt          volt          True   False  False  8\n",
            ".             .             False  False  False  9\n"
          ]
        }
      ]
    },
    {
      "cell_type": "code",
      "source": [
        "''.join([token.text_with_ws for token in doc])"
      ],
      "metadata": {
        "id": "e5KSLQQ70KqX",
        "colab": {
          "base_uri": "https://localhost:8080/",
          "height": 36
        },
        "outputId": "3ed94754-292f-405c-b0d7-343d4e6dabce"
      },
      "execution_count": null,
      "outputs": [
        {
          "output_type": "execute_result",
          "data": {
            "text/plain": [
              "'AZ első, számítógép súlya kb. 30 tonna volt.'"
            ],
            "application/vnd.google.colaboratory.intrinsic+json": {
              "type": "string"
            }
          },
          "metadata": {},
          "execution_count": 75
        }
      ]
    },
    {
      "cell_type": "code",
      "source": [
        "[token.text_with_ws for token in doc]"
      ],
      "metadata": {
        "colab": {
          "base_uri": "https://localhost:8080/"
        },
        "id": "nuY_zhIzJhTA",
        "outputId": "e74a8c94-11de-445a-bb5d-8b5cc4838c70"
      },
      "execution_count": null,
      "outputs": [
        {
          "output_type": "execute_result",
          "data": {
            "text/plain": [
              "['AZ ',\n",
              " 'első',\n",
              " ', ',\n",
              " 'számítógép ',\n",
              " 'súlya ',\n",
              " 'kb. ',\n",
              " '30 ',\n",
              " 'tonna ',\n",
              " 'volt',\n",
              " '.']"
            ]
          },
          "metadata": {},
          "execution_count": 76
        }
      ]
    },
    {
      "cell_type": "markdown",
      "metadata": {
        "id": "HGkeSUkmQwGA"
      },
      "source": [
        "# Mondathatárok meghatározása\n",
        "\n",
        "Tokenizálásra építve, a mondatra bontás is történhet szabályok alapján, de teljes nyelvi elemzésre építve statisztikai alapon is megoldható szintúgy. Ma már nehéz megmondani, mert talán ezek a legkönnyebb feladatok egyike.\n"
      ]
    },
    {
      "cell_type": "code",
      "metadata": {
        "id": "onJdBVEEWYY1",
        "colab": {
          "base_uri": "https://localhost:8080/"
        },
        "outputId": "fb262a31-fb80-435c-ef39-5faa0f224b07"
      },
      "source": [
        "doc = nlp_hu(\"Ez egy rövid mondat. Ez egy másik rövid mondat, de ha tovább írom, akkor hosszabb is lehet még.\")\n",
        "for sent in doc.sents:\n",
        "    print(sent.text)"
      ],
      "execution_count": null,
      "outputs": [
        {
          "output_type": "stream",
          "name": "stdout",
          "text": [
            "Ez egy rövid mondat.\n",
            "Ez egy másik rövid mondat, de ha tovább írom, akkor hosszabb is lehet még.\n"
          ]
        }
      ]
    },
    {
      "cell_type": "code",
      "metadata": {
        "id": "YCZdsWqBPg0u",
        "colab": {
          "base_uri": "https://localhost:8080/"
        },
        "outputId": "c3958424-4d58-4bcc-8223-d51abaa07336"
      },
      "source": [
        "# A következő példa a magyar Wikipedia \"Python\" cikkének első mondatra, önkényesen 3 mondatra szerkesztve.\n",
        "sentence = \"A Python egy általános célú, nagyon magas szintű programozási nyelv. G. van Rossum holland programozó kezdte el fejleszteni 1989 végén. 1991-ben hozta nyilvánosságra.\"\n",
        "sentence_eng = \"Python is an interpreted, high-level and general-purpose programming language. Python was created in the late 1980s. It was first released in 1991 by G. van Rossum. Python is the successor to the ABC programming language.\"\n",
        "print(sentence)\n",
        "print(sentence_eng)"
      ],
      "execution_count": null,
      "outputs": [
        {
          "output_type": "stream",
          "name": "stdout",
          "text": [
            "A Python egy általános célú, nagyon magas szintű programozási nyelv. G. van Rossum holland programozó kezdte el fejleszteni 1989 végén. 1991-ben hozta nyilvánosságra.\n",
            "Python is an interpreted, high-level and general-purpose programming language. Python was created in the late 1980s. It was first released in 1991 by G. van Rossum. Python is the successor to the ABC programming language.\n"
          ]
        }
      ]
    },
    {
      "cell_type": "code",
      "metadata": {
        "id": "Twlw3hUUPK1n",
        "colab": {
          "base_uri": "https://localhost:8080/"
        },
        "outputId": "d1f48dd0-3476-4c96-ab8c-0b40f49f9d4a"
      },
      "source": [
        "doc = nlp_en(sentence_eng)\n",
        "doc2 = nlp_hu(sentence)\n",
        "\n",
        "for sent in doc.sents:\n",
        "    print(sent.text)\n",
        "\n",
        "print ('\\n----\\n')\n",
        "\n",
        "for sent in doc2.sents:\n",
        "  print (sent.text)"
      ],
      "execution_count": null,
      "outputs": [
        {
          "output_type": "stream",
          "name": "stdout",
          "text": [
            "Python is an interpreted, high-level and general-purpose programming language.\n",
            "Python was created in the late 1980s.\n",
            "It was first released in 1991 by G. van Rossum.\n",
            "Python is the successor to the ABC programming language.\n",
            "\n",
            "----\n",
            "\n",
            "A Python egy általános célú, nagyon magas szintű programozási nyelv.\n",
            "G. van Rossum holland programozó kezdte el fejleszteni 1989 végén.\n",
            "1991-ben hozta nyilvánosságra.\n"
          ]
        }
      ]
    },
    {
      "cell_type": "markdown",
      "metadata": {
        "id": "PvwFEH1hL2S9"
      },
      "source": [
        "# További előfeldolgozási lépések\n",
        "\n",
        "### Kisbetűssé alakítás\n",
        "Sok esetben egyszerűsítheti a további lépéseket, ha nem kell törődni a kis- és nagybetűkkel, pl.: topic modelling egyes módszerei.\n",
        "\n",
        "### CamelCase átírás\n",
        "Több helyen előfordul, például kötött szerkezeteknél, ahol nem lehet whitespace karatker egy névben. A szó első karatkterét nagy kezdőbetűvel jelölik, pl. programkódnál, hashtagnél... `#thisIsCamelCase`\n",
        "\n",
        "### Normalizálás\n",
        "Például, ha egy fogalom többféle alakban is elfogadott és ezek a szövegben jelen lehetnek, akkor ezek közül egy kitüntetett alak használata a bevett szokás: `U.S.A`, `USA`, `US`\n",
        "\n",
        "Ez később utófeldolgozásként is megoldható, akkor nem veszítünk információt.\n",
        "\n",
        "### Stopszó szűrés\n",
        "Olyan szavak kiszűrése, melyek sokszor előfordulnak és/vagy nagyon kicsi az információtartalmuk, bizonyos alkalmazásoknál kihagyhatóak, például kulcsszó kinyerésnél a `a`, `az`, `egy` magyar szavak.\n"
      ]
    },
    {
      "cell_type": "markdown",
      "metadata": {
        "id": "gcPqJpmuNLy9"
      },
      "source": [
        "# Szótövező eljárások (stemmers)\n",
        "\n",
        "Angol nyelven van létjogosultsága a stemmereknek, magyarra nagyon buta eredményeket produkálna.\n",
        "\n",
        "A legtöbb algoritmus szabályokat használ, melyekkel a lehetséges toldalékokat távolítja el azok levágásával.\n",
        "\n",
        "A spaCy ezt nem támogatja, ezért használjuk inkább NLTK-t.\n"
      ]
    },
    {
      "cell_type": "code",
      "metadata": {
        "id": "PSMB1jZ-9Gm3"
      },
      "source": [
        "import nltk\n",
        "import pandas as pd"
      ],
      "execution_count": null,
      "outputs": []
    },
    {
      "cell_type": "code",
      "metadata": {
        "id": "sI434bm29O8k"
      },
      "source": [
        "example_words = ['getting', 'got', 'done', 'does', 'rabbits', 'quickly', 'slowly', 'argue', 'argues', 'argued', 'arguing']\n",
        "example_sentence = (\"Pythoners are very intelligent and work very pythonly and now they are pythoning their way to success\")\n",
        "stmrs = pd.DataFrame() # dataframebe gyűjtjük őket, hogy a végén egyben lássuk a konklúziót"
      ],
      "execution_count": null,
      "outputs": []
    },
    {
      "cell_type": "markdown",
      "metadata": {
        "id": "wD-_7aZuQnrP"
      },
      "source": [
        "## Porter stemmer\n",
        "\n",
        "[Porter, 1980](https://tartarus.org/martin/PorterStemmer/)\n",
        "\n",
        "Porter, M. “An algorithm for suffix stripping.” Program 14.3 (1980): 130-137.\n",
        "\n",
        "A Porter a leggyakrabban használt szótövező eljárás. A szabályokon alapuló algoritmus 5 szekvenciális fázisban távolítja el a toldalékokat.\n"
      ]
    },
    {
      "cell_type": "code",
      "metadata": {
        "id": "aDE07dIcQrQr"
      },
      "source": [
        "# Stemmer incializálása\n",
        "stemmer = nltk.stem.porter.PorterStemmer()"
      ],
      "execution_count": null,
      "outputs": []
    },
    {
      "cell_type": "code",
      "metadata": {
        "id": "7DUbIzbJUy8l",
        "colab": {
          "base_uri": "https://localhost:8080/"
        },
        "outputId": "612f0819-854e-4c5d-b3fc-4646c833e7d8"
      },
      "source": [
        "stmrs['Porter'] = ''\n",
        "for word in example_words:\n",
        "  print(word, stemmer.stem(word), sep=' -> ')\n",
        "  stmrs.loc[word, 'Porter'] = stemmer.stem(word)\n"
      ],
      "execution_count": null,
      "outputs": [
        {
          "output_type": "stream",
          "name": "stdout",
          "text": [
            "getting -> get\n",
            "got -> got\n",
            "done -> done\n",
            "does -> doe\n",
            "rabbits -> rabbit\n",
            "quickly -> quickli\n",
            "slowly -> slowli\n",
            "argue -> argu\n",
            "argues -> argu\n",
            "argued -> argu\n",
            "arguing -> argu\n"
          ]
        }
      ]
    },
    {
      "cell_type": "code",
      "metadata": {
        "id": "RlhPtdfFU_I4",
        "colab": {
          "base_uri": "https://localhost:8080/"
        },
        "outputId": "21db1a74-5fdd-4fce-fcb1-387da52b37c4"
      },
      "source": [
        "# A mondatokat stemmeljük szóról szóra\n",
        "stemmed_sentence = [stemmer.stem(word) for word in example_sentence.split()]\n",
        "print(example_sentence.lower())\n",
        "print(' '.join(stemmed_sentence))"
      ],
      "execution_count": null,
      "outputs": [
        {
          "output_type": "stream",
          "name": "stdout",
          "text": [
            "pythoners are very intelligent and work very pythonly and now they are pythoning their way to success\n",
            "python are veri intellig and work veri pythonli and now they are python their way to success\n"
          ]
        }
      ]
    },
    {
      "cell_type": "markdown",
      "metadata": {
        "id": "31ansfz9YNXn"
      },
      "source": [
        "## Lancaster stemmer\n",
        "\n",
        "Paice, Chris D. “Another Stemmer.” ACM SIGIR Forum 24.3 (1990): 56-61.\n",
        "\n",
        "Szintén szabályalapú, de a Porternél agresszívabb és kevésbé intuitív eredményeket ad. Rövidebb szótöveket eredményez, mint a Porter."
      ]
    },
    {
      "cell_type": "code",
      "metadata": {
        "id": "vBwmTpliVo9Y"
      },
      "source": [
        "stemmer = nltk.stem.lancaster.LancasterStemmer()"
      ],
      "execution_count": null,
      "outputs": []
    },
    {
      "cell_type": "code",
      "metadata": {
        "id": "SFRV77MAYMEL",
        "colab": {
          "base_uri": "https://localhost:8080/"
        },
        "outputId": "ea55b486-ae34-4090-b853-a9992ad9dcd1"
      },
      "source": [
        "stmrs['Lancaster'] = ''\n",
        "for word in example_words:\n",
        "  print(word, stemmer.stem(word), sep=' -> ')\n",
        "  stmrs.loc[word, 'Lancaster'] = stemmer.stem(word)"
      ],
      "execution_count": null,
      "outputs": [
        {
          "output_type": "stream",
          "name": "stdout",
          "text": [
            "getting -> get\n",
            "got -> got\n",
            "done -> don\n",
            "does -> doe\n",
            "rabbits -> rabbit\n",
            "quickly -> quick\n",
            "slowly -> slow\n",
            "argue -> argu\n",
            "argues -> argu\n",
            "argued -> argu\n",
            "arguing -> argu\n"
          ]
        }
      ]
    },
    {
      "cell_type": "code",
      "metadata": {
        "id": "Xeuh54qQZazz",
        "colab": {
          "base_uri": "https://localhost:8080/"
        },
        "outputId": "8c926f63-a4e3-49b8-a9ba-cbbb8e0f4769"
      },
      "source": [
        "stemmed_sentence = [stemmer.stem(word) for word in example_sentence.split()]\n",
        "print(example_sentence.lower())\n",
        "print(' '.join(stemmed_sentence))"
      ],
      "execution_count": null,
      "outputs": [
        {
          "output_type": "stream",
          "name": "stdout",
          "text": [
            "pythoners are very intelligent and work very pythonly and now they are pythoning their way to success\n",
            "python ar very intellig and work very python and now they ar python their way to success\n"
          ]
        }
      ]
    },
    {
      "cell_type": "markdown",
      "metadata": {
        "id": "o9BH996wb5JZ"
      },
      "source": [
        "## Snowball stemmer\n",
        "\n",
        "https://snowballstem.org/\n",
        "\n",
        "A Porter stemmer továbbfejlesztett, pontosított változata. A legtöbb feladathoz ez a javasolt algoritmus.\n",
        "\n"
      ]
    },
    {
      "cell_type": "code",
      "metadata": {
        "id": "ScCviVGibpYy"
      },
      "source": [
        "stemmer = nltk.stem.snowball.EnglishStemmer()"
      ],
      "execution_count": null,
      "outputs": []
    },
    {
      "cell_type": "code",
      "metadata": {
        "id": "4jeQZyZxedC9",
        "colab": {
          "base_uri": "https://localhost:8080/"
        },
        "outputId": "8604a600-f80a-4528-f4cf-62035d19b42c"
      },
      "source": [
        "stmrs['Snowball'] = ''\n",
        "for word in example_words:\n",
        "  print(word, stemmer.stem(word), sep=' -> ')\n",
        "  stmrs.loc[word, 'Snowball'] = stemmer.stem(word)"
      ],
      "execution_count": null,
      "outputs": [
        {
          "output_type": "stream",
          "name": "stdout",
          "text": [
            "getting -> get\n",
            "got -> got\n",
            "done -> done\n",
            "does -> doe\n",
            "rabbits -> rabbit\n",
            "quickly -> quick\n",
            "slowly -> slowli\n",
            "argue -> argu\n",
            "argues -> argu\n",
            "argued -> argu\n",
            "arguing -> argu\n"
          ]
        }
      ]
    },
    {
      "cell_type": "code",
      "metadata": {
        "id": "a900Ucy7e6OA",
        "colab": {
          "base_uri": "https://localhost:8080/"
        },
        "outputId": "b9d02500-d092-45ff-c218-8066d4d1461d"
      },
      "source": [
        "stemmed_sentence = [stemmer.stem(word) for word in example_sentence.split()]\n",
        "print(example_sentence.lower())\n",
        "print(' '.join(stemmed_sentence))"
      ],
      "execution_count": null,
      "outputs": [
        {
          "output_type": "stream",
          "name": "stdout",
          "text": [
            "pythoners are very intelligent and work very pythonly and now they are pythoning their way to success\n",
            "python are veri intellig and work veri python and now they are python their way to success\n"
          ]
        }
      ]
    },
    {
      "cell_type": "markdown",
      "metadata": {
        "id": "KSINjNIbgAxY"
      },
      "source": [
        "## Regexp stemmer\n",
        "\n",
        "A felhasználó által definiált reguláris kifejezéseket használó szótövező."
      ]
    },
    {
      "cell_type": "code",
      "metadata": {
        "id": "WORUaOrdfmO9"
      },
      "source": [
        "stemmer = nltk.stem.regexp.RegexpStemmer('ing$|s$|e$|able$', min=4)"
      ],
      "execution_count": null,
      "outputs": []
    },
    {
      "cell_type": "code",
      "metadata": {
        "id": "skMpW-pIglwC",
        "colab": {
          "base_uri": "https://localhost:8080/"
        },
        "outputId": "45880a50-2c24-4786-890b-957d7b7fd6ac"
      },
      "source": [
        "stmrs['RegExp'] = ''\n",
        "for word in example_words:\n",
        "  print(word, stemmer.stem(word), sep=' -> ')\n",
        "  stmrs.loc[word, 'RegExp'] = stemmer.stem(word)"
      ],
      "execution_count": null,
      "outputs": [
        {
          "output_type": "stream",
          "name": "stdout",
          "text": [
            "getting -> gett\n",
            "got -> got\n",
            "done -> don\n",
            "does -> doe\n",
            "rabbits -> rabbit\n",
            "quickly -> quickly\n",
            "slowly -> slowly\n",
            "argue -> argu\n",
            "argues -> argue\n",
            "argued -> argued\n",
            "arguing -> argu\n"
          ]
        }
      ]
    },
    {
      "cell_type": "markdown",
      "metadata": {
        "id": "wFIPK6leivtW"
      },
      "source": [
        "## A különböző szótövezők összehasonlítása"
      ]
    },
    {
      "cell_type": "code",
      "metadata": {
        "id": "gl4oUmOtg9LF",
        "colab": {
          "base_uri": "https://localhost:8080/",
          "height": 394
        },
        "outputId": "c9dd2df1-5095-48b1-98e5-1d6b51a1c34b"
      },
      "source": [
        "stmrs"
      ],
      "execution_count": null,
      "outputs": [
        {
          "output_type": "execute_result",
          "data": {
            "text/plain": [
              "          Porter Lancaster Snowball   RegExp\n",
              "getting      get       get      get     gett\n",
              "got          got       got      got      got\n",
              "done        done       don     done      don\n",
              "does         doe       doe      doe      doe\n",
              "rabbits   rabbit    rabbit   rabbit   rabbit\n",
              "quickly  quickli     quick    quick  quickly\n",
              "slowly    slowli      slow   slowli   slowly\n",
              "argue       argu      argu     argu     argu\n",
              "argues      argu      argu     argu    argue\n",
              "argued      argu      argu     argu   argued\n",
              "arguing     argu      argu     argu     argu"
            ],
            "text/html": [
              "\n",
              "  <div id=\"df-9eb5815e-4ff4-4ad9-89af-4dfa99055235\" class=\"colab-df-container\">\n",
              "    <div>\n",
              "<style scoped>\n",
              "    .dataframe tbody tr th:only-of-type {\n",
              "        vertical-align: middle;\n",
              "    }\n",
              "\n",
              "    .dataframe tbody tr th {\n",
              "        vertical-align: top;\n",
              "    }\n",
              "\n",
              "    .dataframe thead th {\n",
              "        text-align: right;\n",
              "    }\n",
              "</style>\n",
              "<table border=\"1\" class=\"dataframe\">\n",
              "  <thead>\n",
              "    <tr style=\"text-align: right;\">\n",
              "      <th></th>\n",
              "      <th>Porter</th>\n",
              "      <th>Lancaster</th>\n",
              "      <th>Snowball</th>\n",
              "      <th>RegExp</th>\n",
              "    </tr>\n",
              "  </thead>\n",
              "  <tbody>\n",
              "    <tr>\n",
              "      <th>getting</th>\n",
              "      <td>get</td>\n",
              "      <td>get</td>\n",
              "      <td>get</td>\n",
              "      <td>gett</td>\n",
              "    </tr>\n",
              "    <tr>\n",
              "      <th>got</th>\n",
              "      <td>got</td>\n",
              "      <td>got</td>\n",
              "      <td>got</td>\n",
              "      <td>got</td>\n",
              "    </tr>\n",
              "    <tr>\n",
              "      <th>done</th>\n",
              "      <td>done</td>\n",
              "      <td>don</td>\n",
              "      <td>done</td>\n",
              "      <td>don</td>\n",
              "    </tr>\n",
              "    <tr>\n",
              "      <th>does</th>\n",
              "      <td>doe</td>\n",
              "      <td>doe</td>\n",
              "      <td>doe</td>\n",
              "      <td>doe</td>\n",
              "    </tr>\n",
              "    <tr>\n",
              "      <th>rabbits</th>\n",
              "      <td>rabbit</td>\n",
              "      <td>rabbit</td>\n",
              "      <td>rabbit</td>\n",
              "      <td>rabbit</td>\n",
              "    </tr>\n",
              "    <tr>\n",
              "      <th>quickly</th>\n",
              "      <td>quickli</td>\n",
              "      <td>quick</td>\n",
              "      <td>quick</td>\n",
              "      <td>quickly</td>\n",
              "    </tr>\n",
              "    <tr>\n",
              "      <th>slowly</th>\n",
              "      <td>slowli</td>\n",
              "      <td>slow</td>\n",
              "      <td>slowli</td>\n",
              "      <td>slowly</td>\n",
              "    </tr>\n",
              "    <tr>\n",
              "      <th>argue</th>\n",
              "      <td>argu</td>\n",
              "      <td>argu</td>\n",
              "      <td>argu</td>\n",
              "      <td>argu</td>\n",
              "    </tr>\n",
              "    <tr>\n",
              "      <th>argues</th>\n",
              "      <td>argu</td>\n",
              "      <td>argu</td>\n",
              "      <td>argu</td>\n",
              "      <td>argue</td>\n",
              "    </tr>\n",
              "    <tr>\n",
              "      <th>argued</th>\n",
              "      <td>argu</td>\n",
              "      <td>argu</td>\n",
              "      <td>argu</td>\n",
              "      <td>argued</td>\n",
              "    </tr>\n",
              "    <tr>\n",
              "      <th>arguing</th>\n",
              "      <td>argu</td>\n",
              "      <td>argu</td>\n",
              "      <td>argu</td>\n",
              "      <td>argu</td>\n",
              "    </tr>\n",
              "  </tbody>\n",
              "</table>\n",
              "</div>\n",
              "    <div class=\"colab-df-buttons\">\n",
              "\n",
              "  <div class=\"colab-df-container\">\n",
              "    <button class=\"colab-df-convert\" onclick=\"convertToInteractive('df-9eb5815e-4ff4-4ad9-89af-4dfa99055235')\"\n",
              "            title=\"Convert this dataframe to an interactive table.\"\n",
              "            style=\"display:none;\">\n",
              "\n",
              "  <svg xmlns=\"http://www.w3.org/2000/svg\" height=\"24px\" viewBox=\"0 -960 960 960\">\n",
              "    <path d=\"M120-120v-720h720v720H120Zm60-500h600v-160H180v160Zm220 220h160v-160H400v160Zm0 220h160v-160H400v160ZM180-400h160v-160H180v160Zm440 0h160v-160H620v160ZM180-180h160v-160H180v160Zm440 0h160v-160H620v160Z\"/>\n",
              "  </svg>\n",
              "    </button>\n",
              "\n",
              "  <style>\n",
              "    .colab-df-container {\n",
              "      display:flex;\n",
              "      gap: 12px;\n",
              "    }\n",
              "\n",
              "    .colab-df-convert {\n",
              "      background-color: #E8F0FE;\n",
              "      border: none;\n",
              "      border-radius: 50%;\n",
              "      cursor: pointer;\n",
              "      display: none;\n",
              "      fill: #1967D2;\n",
              "      height: 32px;\n",
              "      padding: 0 0 0 0;\n",
              "      width: 32px;\n",
              "    }\n",
              "\n",
              "    .colab-df-convert:hover {\n",
              "      background-color: #E2EBFA;\n",
              "      box-shadow: 0px 1px 2px rgba(60, 64, 67, 0.3), 0px 1px 3px 1px rgba(60, 64, 67, 0.15);\n",
              "      fill: #174EA6;\n",
              "    }\n",
              "\n",
              "    .colab-df-buttons div {\n",
              "      margin-bottom: 4px;\n",
              "    }\n",
              "\n",
              "    [theme=dark] .colab-df-convert {\n",
              "      background-color: #3B4455;\n",
              "      fill: #D2E3FC;\n",
              "    }\n",
              "\n",
              "    [theme=dark] .colab-df-convert:hover {\n",
              "      background-color: #434B5C;\n",
              "      box-shadow: 0px 1px 3px 1px rgba(0, 0, 0, 0.15);\n",
              "      filter: drop-shadow(0px 1px 2px rgba(0, 0, 0, 0.3));\n",
              "      fill: #FFFFFF;\n",
              "    }\n",
              "  </style>\n",
              "\n",
              "    <script>\n",
              "      const buttonEl =\n",
              "        document.querySelector('#df-9eb5815e-4ff4-4ad9-89af-4dfa99055235 button.colab-df-convert');\n",
              "      buttonEl.style.display =\n",
              "        google.colab.kernel.accessAllowed ? 'block' : 'none';\n",
              "\n",
              "      async function convertToInteractive(key) {\n",
              "        const element = document.querySelector('#df-9eb5815e-4ff4-4ad9-89af-4dfa99055235');\n",
              "        const dataTable =\n",
              "          await google.colab.kernel.invokeFunction('convertToInteractive',\n",
              "                                                    [key], {});\n",
              "        if (!dataTable) return;\n",
              "\n",
              "        const docLinkHtml = 'Like what you see? Visit the ' +\n",
              "          '<a target=\"_blank\" href=https://colab.research.google.com/notebooks/data_table.ipynb>data table notebook</a>'\n",
              "          + ' to learn more about interactive tables.';\n",
              "        element.innerHTML = '';\n",
              "        dataTable['output_type'] = 'display_data';\n",
              "        await google.colab.output.renderOutput(dataTable, element);\n",
              "        const docLink = document.createElement('div');\n",
              "        docLink.innerHTML = docLinkHtml;\n",
              "        element.appendChild(docLink);\n",
              "      }\n",
              "    </script>\n",
              "  </div>\n",
              "\n",
              "\n",
              "<div id=\"df-df25e7eb-2c90-4a47-85c9-1a20b19158bb\">\n",
              "  <button class=\"colab-df-quickchart\" onclick=\"quickchart('df-df25e7eb-2c90-4a47-85c9-1a20b19158bb')\"\n",
              "            title=\"Suggest charts\"\n",
              "            style=\"display:none;\">\n",
              "\n",
              "<svg xmlns=\"http://www.w3.org/2000/svg\" height=\"24px\"viewBox=\"0 0 24 24\"\n",
              "     width=\"24px\">\n",
              "    <g>\n",
              "        <path d=\"M19 3H5c-1.1 0-2 .9-2 2v14c0 1.1.9 2 2 2h14c1.1 0 2-.9 2-2V5c0-1.1-.9-2-2-2zM9 17H7v-7h2v7zm4 0h-2V7h2v10zm4 0h-2v-4h2v4z\"/>\n",
              "    </g>\n",
              "</svg>\n",
              "  </button>\n",
              "\n",
              "<style>\n",
              "  .colab-df-quickchart {\n",
              "      --bg-color: #E8F0FE;\n",
              "      --fill-color: #1967D2;\n",
              "      --hover-bg-color: #E2EBFA;\n",
              "      --hover-fill-color: #174EA6;\n",
              "      --disabled-fill-color: #AAA;\n",
              "      --disabled-bg-color: #DDD;\n",
              "  }\n",
              "\n",
              "  [theme=dark] .colab-df-quickchart {\n",
              "      --bg-color: #3B4455;\n",
              "      --fill-color: #D2E3FC;\n",
              "      --hover-bg-color: #434B5C;\n",
              "      --hover-fill-color: #FFFFFF;\n",
              "      --disabled-bg-color: #3B4455;\n",
              "      --disabled-fill-color: #666;\n",
              "  }\n",
              "\n",
              "  .colab-df-quickchart {\n",
              "    background-color: var(--bg-color);\n",
              "    border: none;\n",
              "    border-radius: 50%;\n",
              "    cursor: pointer;\n",
              "    display: none;\n",
              "    fill: var(--fill-color);\n",
              "    height: 32px;\n",
              "    padding: 0;\n",
              "    width: 32px;\n",
              "  }\n",
              "\n",
              "  .colab-df-quickchart:hover {\n",
              "    background-color: var(--hover-bg-color);\n",
              "    box-shadow: 0 1px 2px rgba(60, 64, 67, 0.3), 0 1px 3px 1px rgba(60, 64, 67, 0.15);\n",
              "    fill: var(--button-hover-fill-color);\n",
              "  }\n",
              "\n",
              "  .colab-df-quickchart-complete:disabled,\n",
              "  .colab-df-quickchart-complete:disabled:hover {\n",
              "    background-color: var(--disabled-bg-color);\n",
              "    fill: var(--disabled-fill-color);\n",
              "    box-shadow: none;\n",
              "  }\n",
              "\n",
              "  .colab-df-spinner {\n",
              "    border: 2px solid var(--fill-color);\n",
              "    border-color: transparent;\n",
              "    border-bottom-color: var(--fill-color);\n",
              "    animation:\n",
              "      spin 1s steps(1) infinite;\n",
              "  }\n",
              "\n",
              "  @keyframes spin {\n",
              "    0% {\n",
              "      border-color: transparent;\n",
              "      border-bottom-color: var(--fill-color);\n",
              "      border-left-color: var(--fill-color);\n",
              "    }\n",
              "    20% {\n",
              "      border-color: transparent;\n",
              "      border-left-color: var(--fill-color);\n",
              "      border-top-color: var(--fill-color);\n",
              "    }\n",
              "    30% {\n",
              "      border-color: transparent;\n",
              "      border-left-color: var(--fill-color);\n",
              "      border-top-color: var(--fill-color);\n",
              "      border-right-color: var(--fill-color);\n",
              "    }\n",
              "    40% {\n",
              "      border-color: transparent;\n",
              "      border-right-color: var(--fill-color);\n",
              "      border-top-color: var(--fill-color);\n",
              "    }\n",
              "    60% {\n",
              "      border-color: transparent;\n",
              "      border-right-color: var(--fill-color);\n",
              "    }\n",
              "    80% {\n",
              "      border-color: transparent;\n",
              "      border-right-color: var(--fill-color);\n",
              "      border-bottom-color: var(--fill-color);\n",
              "    }\n",
              "    90% {\n",
              "      border-color: transparent;\n",
              "      border-bottom-color: var(--fill-color);\n",
              "    }\n",
              "  }\n",
              "</style>\n",
              "\n",
              "  <script>\n",
              "    async function quickchart(key) {\n",
              "      const quickchartButtonEl =\n",
              "        document.querySelector('#' + key + ' button');\n",
              "      quickchartButtonEl.disabled = true;  // To prevent multiple clicks.\n",
              "      quickchartButtonEl.classList.add('colab-df-spinner');\n",
              "      try {\n",
              "        const charts = await google.colab.kernel.invokeFunction(\n",
              "            'suggestCharts', [key], {});\n",
              "      } catch (error) {\n",
              "        console.error('Error during call to suggestCharts:', error);\n",
              "      }\n",
              "      quickchartButtonEl.classList.remove('colab-df-spinner');\n",
              "      quickchartButtonEl.classList.add('colab-df-quickchart-complete');\n",
              "    }\n",
              "    (() => {\n",
              "      let quickchartButtonEl =\n",
              "        document.querySelector('#df-df25e7eb-2c90-4a47-85c9-1a20b19158bb button');\n",
              "      quickchartButtonEl.style.display =\n",
              "        google.colab.kernel.accessAllowed ? 'block' : 'none';\n",
              "    })();\n",
              "  </script>\n",
              "</div>\n",
              "\n",
              "  <div id=\"id_2f8dbb81-4f54-45a6-a5db-0e003c7dc5f5\">\n",
              "    <style>\n",
              "      .colab-df-generate {\n",
              "        background-color: #E8F0FE;\n",
              "        border: none;\n",
              "        border-radius: 50%;\n",
              "        cursor: pointer;\n",
              "        display: none;\n",
              "        fill: #1967D2;\n",
              "        height: 32px;\n",
              "        padding: 0 0 0 0;\n",
              "        width: 32px;\n",
              "      }\n",
              "\n",
              "      .colab-df-generate:hover {\n",
              "        background-color: #E2EBFA;\n",
              "        box-shadow: 0px 1px 2px rgba(60, 64, 67, 0.3), 0px 1px 3px 1px rgba(60, 64, 67, 0.15);\n",
              "        fill: #174EA6;\n",
              "      }\n",
              "\n",
              "      [theme=dark] .colab-df-generate {\n",
              "        background-color: #3B4455;\n",
              "        fill: #D2E3FC;\n",
              "      }\n",
              "\n",
              "      [theme=dark] .colab-df-generate:hover {\n",
              "        background-color: #434B5C;\n",
              "        box-shadow: 0px 1px 3px 1px rgba(0, 0, 0, 0.15);\n",
              "        filter: drop-shadow(0px 1px 2px rgba(0, 0, 0, 0.3));\n",
              "        fill: #FFFFFF;\n",
              "      }\n",
              "    </style>\n",
              "    <button class=\"colab-df-generate\" onclick=\"generateWithVariable('stmrs')\"\n",
              "            title=\"Generate code using this dataframe.\"\n",
              "            style=\"display:none;\">\n",
              "\n",
              "  <svg xmlns=\"http://www.w3.org/2000/svg\" height=\"24px\"viewBox=\"0 0 24 24\"\n",
              "       width=\"24px\">\n",
              "    <path d=\"M7,19H8.4L18.45,9,17,7.55,7,17.6ZM5,21V16.75L18.45,3.32a2,2,0,0,1,2.83,0l1.4,1.43a1.91,1.91,0,0,1,.58,1.4,1.91,1.91,0,0,1-.58,1.4L9.25,21ZM18.45,9,17,7.55Zm-12,3A5.31,5.31,0,0,0,4.9,8.1,5.31,5.31,0,0,0,1,6.5,5.31,5.31,0,0,0,4.9,4.9,5.31,5.31,0,0,0,6.5,1,5.31,5.31,0,0,0,8.1,4.9,5.31,5.31,0,0,0,12,6.5,5.46,5.46,0,0,0,6.5,12Z\"/>\n",
              "  </svg>\n",
              "    </button>\n",
              "    <script>\n",
              "      (() => {\n",
              "      const buttonEl =\n",
              "        document.querySelector('#id_2f8dbb81-4f54-45a6-a5db-0e003c7dc5f5 button.colab-df-generate');\n",
              "      buttonEl.style.display =\n",
              "        google.colab.kernel.accessAllowed ? 'block' : 'none';\n",
              "\n",
              "      buttonEl.onclick = () => {\n",
              "        google.colab.notebook.generateWithVariable('stmrs');\n",
              "      }\n",
              "      })();\n",
              "    </script>\n",
              "  </div>\n",
              "\n",
              "    </div>\n",
              "  </div>\n"
            ],
            "application/vnd.google.colaboratory.intrinsic+json": {
              "type": "dataframe",
              "variable_name": "stmrs",
              "summary": "{\n  \"name\": \"stmrs\",\n  \"rows\": 11,\n  \"fields\": [\n    {\n      \"column\": \"Porter\",\n      \"properties\": {\n        \"dtype\": \"string\",\n        \"num_unique_values\": 8,\n        \"samples\": [\n          \"got\",\n          \"quickli\",\n          \"get\"\n        ],\n        \"semantic_type\": \"\",\n        \"description\": \"\"\n      }\n    },\n    {\n      \"column\": \"Lancaster\",\n      \"properties\": {\n        \"dtype\": \"string\",\n        \"num_unique_values\": 8,\n        \"samples\": [\n          \"got\",\n          \"quick\",\n          \"get\"\n        ],\n        \"semantic_type\": \"\",\n        \"description\": \"\"\n      }\n    },\n    {\n      \"column\": \"Snowball\",\n      \"properties\": {\n        \"dtype\": \"string\",\n        \"num_unique_values\": 8,\n        \"samples\": [\n          \"got\",\n          \"quick\",\n          \"get\"\n        ],\n        \"semantic_type\": \"\",\n        \"description\": \"\"\n      }\n    },\n    {\n      \"column\": \"RegExp\",\n      \"properties\": {\n        \"dtype\": \"string\",\n        \"num_unique_values\": 10,\n        \"samples\": [\n          \"argue\",\n          \"got\",\n          \"quickly\"\n        ],\n        \"semantic_type\": \"\",\n        \"description\": \"\"\n      }\n    }\n  ]\n}"
            }
          },
          "metadata": {},
          "execution_count": 93
        }
      ]
    },
    {
      "cell_type": "markdown",
      "metadata": {
        "id": "A3B1N_d7jUfP"
      },
      "source": [
        "# Lemmatizáló eljárások"
      ]
    },
    {
      "cell_type": "markdown",
      "metadata": {
        "id": "ftS_QEqTjdHa"
      },
      "source": [
        "## Szótár alapú lemmatizálás\n",
        "\n",
        "A WordNet egy többnyelvű, szavak közötti szemantikai kapcsolatot leíró lexikai adatbázis. Az ezen alapuló lemmatizáló eljárás a WordNet saját beépített `morphy` függvényét használja a szavak WordNet-beli szótári alakjának keresésére. Ha nincs találat, az input szót kapjuk vissza változatlanul."
      ]
    },
    {
      "cell_type": "code",
      "metadata": {
        "id": "FZrKHIFwhAZz",
        "colab": {
          "base_uri": "https://localhost:8080/"
        },
        "outputId": "d84e368a-5e8f-4b16-aba0-437f0a77201e"
      },
      "source": [
        "lemmatizer = nltk.stem.wordnet.WordNetLemmatizer()\n",
        "\n",
        "# Az NLTK csomag WordNet kiegészítőjét az első használat le kell tölteni.\n",
        "nltk.download('wordnet')\n",
        "nltk.download('omw-1.4')"
      ],
      "execution_count": null,
      "outputs": [
        {
          "output_type": "stream",
          "name": "stderr",
          "text": [
            "[nltk_data] Downloading package wordnet to /root/nltk_data...\n",
            "[nltk_data]   Package wordnet is already up-to-date!\n",
            "[nltk_data] Downloading package omw-1.4 to /root/nltk_data...\n",
            "[nltk_data]   Package omw-1.4 is already up-to-date!\n"
          ]
        },
        {
          "output_type": "execute_result",
          "data": {
            "text/plain": [
              "True"
            ]
          },
          "metadata": {},
          "execution_count": 94
        }
      ]
    },
    {
      "cell_type": "code",
      "metadata": {
        "id": "2_KyxfUIlI9f",
        "colab": {
          "base_uri": "https://localhost:8080/"
        },
        "outputId": "f357d06e-6069-465a-f60a-46fb9934568d"
      },
      "source": [
        "stmrs['WordNet'] = ''\n",
        "for word in example_words:\n",
        "  print(word, lemmatizer.lemmatize(word), sep=' -> ')\n",
        "  stmrs.loc[word, 'WordNet'] = lemmatizer.lemmatize(word)"
      ],
      "execution_count": null,
      "outputs": [
        {
          "output_type": "stream",
          "name": "stdout",
          "text": [
            "getting -> getting\n",
            "got -> got\n",
            "done -> done\n",
            "does -> doe\n",
            "rabbits -> rabbit\n",
            "quickly -> quickly\n",
            "slowly -> slowly\n",
            "argue -> argue\n",
            "argues -> argues\n",
            "argued -> argued\n",
            "arguing -> arguing\n"
          ]
        }
      ]
    },
    {
      "cell_type": "markdown",
      "metadata": {
        "id": "lWH9IM6gmZrQ"
      },
      "source": [
        "A lemmatizálás sokkal hatékonyabbá tehető, ha a szófaji információt is figyelembe vesszük, és nem csupán egy valós szóalakot keresünk:"
      ]
    },
    {
      "cell_type": "code",
      "metadata": {
        "id": "5XJUq9VDlPVu"
      },
      "source": [
        "# v: verb, ige\n",
        "# n: noun, főnév\n",
        "# r: adverb, határozószó\n",
        "example_words = [('getting','v'),\n",
        "               ('got','v'),\n",
        "               ('done','v'),\n",
        "               ('does','v'),\n",
        "               ('rabbits','n'),\n",
        "               ('quickly', 'r'),\n",
        "               ('slowly', 'r'),\n",
        "               ('argue','v'),\n",
        "               ('argues','v'),\n",
        "               ('argued','v'),\n",
        "               ('arguing','v')]\n"
      ],
      "execution_count": null,
      "outputs": []
    },
    {
      "cell_type": "code",
      "metadata": {
        "id": "Y9u0AxN0mStr",
        "colab": {
          "base_uri": "https://localhost:8080/"
        },
        "outputId": "53725a29-8cf5-493f-b790-885494fa95e4"
      },
      "source": [
        "stmrs['WordNet2'] = ''\n",
        "for word in example_words:\n",
        "  print(word, lemmatizer.lemmatize(word[0], pos=word[1]), sep=' -> ')\n",
        "  stmrs.loc[word[0],'WordNet2'] = lemmatizer.lemmatize(word[0], pos=word[1])"
      ],
      "execution_count": null,
      "outputs": [
        {
          "output_type": "stream",
          "name": "stdout",
          "text": [
            "('getting', 'v') -> get\n",
            "('got', 'v') -> get\n",
            "('done', 'v') -> do\n",
            "('does', 'v') -> do\n",
            "('rabbits', 'n') -> rabbit\n",
            "('quickly', 'r') -> quickly\n",
            "('slowly', 'r') -> slowly\n",
            "('argue', 'v') -> argue\n",
            "('argues', 'v') -> argue\n",
            "('argued', 'v') -> argue\n",
            "('arguing', 'v') -> argue\n"
          ]
        }
      ]
    },
    {
      "cell_type": "code",
      "metadata": {
        "id": "6ZGkz-HloMQc",
        "colab": {
          "base_uri": "https://localhost:8080/",
          "height": 394
        },
        "outputId": "0d140c77-7063-458f-826e-3961e9a6d006"
      },
      "source": [
        "stmrs"
      ],
      "execution_count": null,
      "outputs": [
        {
          "output_type": "execute_result",
          "data": {
            "text/plain": [
              "          Porter Lancaster Snowball   RegExp  WordNet WordNet2\n",
              "getting      get       get      get     gett  getting      get\n",
              "got          got       got      got      got      got      get\n",
              "done        done       don     done      don     done       do\n",
              "does         doe       doe      doe      doe      doe       do\n",
              "rabbits   rabbit    rabbit   rabbit   rabbit   rabbit   rabbit\n",
              "quickly  quickli     quick    quick  quickly  quickly  quickly\n",
              "slowly    slowli      slow   slowli   slowly   slowly   slowly\n",
              "argue       argu      argu     argu     argu    argue    argue\n",
              "argues      argu      argu     argu    argue   argues    argue\n",
              "argued      argu      argu     argu   argued   argued    argue\n",
              "arguing     argu      argu     argu     argu  arguing    argue"
            ],
            "text/html": [
              "\n",
              "  <div id=\"df-72861817-36fd-428c-bb70-c4370838a6db\" class=\"colab-df-container\">\n",
              "    <div>\n",
              "<style scoped>\n",
              "    .dataframe tbody tr th:only-of-type {\n",
              "        vertical-align: middle;\n",
              "    }\n",
              "\n",
              "    .dataframe tbody tr th {\n",
              "        vertical-align: top;\n",
              "    }\n",
              "\n",
              "    .dataframe thead th {\n",
              "        text-align: right;\n",
              "    }\n",
              "</style>\n",
              "<table border=\"1\" class=\"dataframe\">\n",
              "  <thead>\n",
              "    <tr style=\"text-align: right;\">\n",
              "      <th></th>\n",
              "      <th>Porter</th>\n",
              "      <th>Lancaster</th>\n",
              "      <th>Snowball</th>\n",
              "      <th>RegExp</th>\n",
              "      <th>WordNet</th>\n",
              "      <th>WordNet2</th>\n",
              "    </tr>\n",
              "  </thead>\n",
              "  <tbody>\n",
              "    <tr>\n",
              "      <th>getting</th>\n",
              "      <td>get</td>\n",
              "      <td>get</td>\n",
              "      <td>get</td>\n",
              "      <td>gett</td>\n",
              "      <td>getting</td>\n",
              "      <td>get</td>\n",
              "    </tr>\n",
              "    <tr>\n",
              "      <th>got</th>\n",
              "      <td>got</td>\n",
              "      <td>got</td>\n",
              "      <td>got</td>\n",
              "      <td>got</td>\n",
              "      <td>got</td>\n",
              "      <td>get</td>\n",
              "    </tr>\n",
              "    <tr>\n",
              "      <th>done</th>\n",
              "      <td>done</td>\n",
              "      <td>don</td>\n",
              "      <td>done</td>\n",
              "      <td>don</td>\n",
              "      <td>done</td>\n",
              "      <td>do</td>\n",
              "    </tr>\n",
              "    <tr>\n",
              "      <th>does</th>\n",
              "      <td>doe</td>\n",
              "      <td>doe</td>\n",
              "      <td>doe</td>\n",
              "      <td>doe</td>\n",
              "      <td>doe</td>\n",
              "      <td>do</td>\n",
              "    </tr>\n",
              "    <tr>\n",
              "      <th>rabbits</th>\n",
              "      <td>rabbit</td>\n",
              "      <td>rabbit</td>\n",
              "      <td>rabbit</td>\n",
              "      <td>rabbit</td>\n",
              "      <td>rabbit</td>\n",
              "      <td>rabbit</td>\n",
              "    </tr>\n",
              "    <tr>\n",
              "      <th>quickly</th>\n",
              "      <td>quickli</td>\n",
              "      <td>quick</td>\n",
              "      <td>quick</td>\n",
              "      <td>quickly</td>\n",
              "      <td>quickly</td>\n",
              "      <td>quickly</td>\n",
              "    </tr>\n",
              "    <tr>\n",
              "      <th>slowly</th>\n",
              "      <td>slowli</td>\n",
              "      <td>slow</td>\n",
              "      <td>slowli</td>\n",
              "      <td>slowly</td>\n",
              "      <td>slowly</td>\n",
              "      <td>slowly</td>\n",
              "    </tr>\n",
              "    <tr>\n",
              "      <th>argue</th>\n",
              "      <td>argu</td>\n",
              "      <td>argu</td>\n",
              "      <td>argu</td>\n",
              "      <td>argu</td>\n",
              "      <td>argue</td>\n",
              "      <td>argue</td>\n",
              "    </tr>\n",
              "    <tr>\n",
              "      <th>argues</th>\n",
              "      <td>argu</td>\n",
              "      <td>argu</td>\n",
              "      <td>argu</td>\n",
              "      <td>argue</td>\n",
              "      <td>argues</td>\n",
              "      <td>argue</td>\n",
              "    </tr>\n",
              "    <tr>\n",
              "      <th>argued</th>\n",
              "      <td>argu</td>\n",
              "      <td>argu</td>\n",
              "      <td>argu</td>\n",
              "      <td>argued</td>\n",
              "      <td>argued</td>\n",
              "      <td>argue</td>\n",
              "    </tr>\n",
              "    <tr>\n",
              "      <th>arguing</th>\n",
              "      <td>argu</td>\n",
              "      <td>argu</td>\n",
              "      <td>argu</td>\n",
              "      <td>argu</td>\n",
              "      <td>arguing</td>\n",
              "      <td>argue</td>\n",
              "    </tr>\n",
              "  </tbody>\n",
              "</table>\n",
              "</div>\n",
              "    <div class=\"colab-df-buttons\">\n",
              "\n",
              "  <div class=\"colab-df-container\">\n",
              "    <button class=\"colab-df-convert\" onclick=\"convertToInteractive('df-72861817-36fd-428c-bb70-c4370838a6db')\"\n",
              "            title=\"Convert this dataframe to an interactive table.\"\n",
              "            style=\"display:none;\">\n",
              "\n",
              "  <svg xmlns=\"http://www.w3.org/2000/svg\" height=\"24px\" viewBox=\"0 -960 960 960\">\n",
              "    <path d=\"M120-120v-720h720v720H120Zm60-500h600v-160H180v160Zm220 220h160v-160H400v160Zm0 220h160v-160H400v160ZM180-400h160v-160H180v160Zm440 0h160v-160H620v160ZM180-180h160v-160H180v160Zm440 0h160v-160H620v160Z\"/>\n",
              "  </svg>\n",
              "    </button>\n",
              "\n",
              "  <style>\n",
              "    .colab-df-container {\n",
              "      display:flex;\n",
              "      gap: 12px;\n",
              "    }\n",
              "\n",
              "    .colab-df-convert {\n",
              "      background-color: #E8F0FE;\n",
              "      border: none;\n",
              "      border-radius: 50%;\n",
              "      cursor: pointer;\n",
              "      display: none;\n",
              "      fill: #1967D2;\n",
              "      height: 32px;\n",
              "      padding: 0 0 0 0;\n",
              "      width: 32px;\n",
              "    }\n",
              "\n",
              "    .colab-df-convert:hover {\n",
              "      background-color: #E2EBFA;\n",
              "      box-shadow: 0px 1px 2px rgba(60, 64, 67, 0.3), 0px 1px 3px 1px rgba(60, 64, 67, 0.15);\n",
              "      fill: #174EA6;\n",
              "    }\n",
              "\n",
              "    .colab-df-buttons div {\n",
              "      margin-bottom: 4px;\n",
              "    }\n",
              "\n",
              "    [theme=dark] .colab-df-convert {\n",
              "      background-color: #3B4455;\n",
              "      fill: #D2E3FC;\n",
              "    }\n",
              "\n",
              "    [theme=dark] .colab-df-convert:hover {\n",
              "      background-color: #434B5C;\n",
              "      box-shadow: 0px 1px 3px 1px rgba(0, 0, 0, 0.15);\n",
              "      filter: drop-shadow(0px 1px 2px rgba(0, 0, 0, 0.3));\n",
              "      fill: #FFFFFF;\n",
              "    }\n",
              "  </style>\n",
              "\n",
              "    <script>\n",
              "      const buttonEl =\n",
              "        document.querySelector('#df-72861817-36fd-428c-bb70-c4370838a6db button.colab-df-convert');\n",
              "      buttonEl.style.display =\n",
              "        google.colab.kernel.accessAllowed ? 'block' : 'none';\n",
              "\n",
              "      async function convertToInteractive(key) {\n",
              "        const element = document.querySelector('#df-72861817-36fd-428c-bb70-c4370838a6db');\n",
              "        const dataTable =\n",
              "          await google.colab.kernel.invokeFunction('convertToInteractive',\n",
              "                                                    [key], {});\n",
              "        if (!dataTable) return;\n",
              "\n",
              "        const docLinkHtml = 'Like what you see? Visit the ' +\n",
              "          '<a target=\"_blank\" href=https://colab.research.google.com/notebooks/data_table.ipynb>data table notebook</a>'\n",
              "          + ' to learn more about interactive tables.';\n",
              "        element.innerHTML = '';\n",
              "        dataTable['output_type'] = 'display_data';\n",
              "        await google.colab.output.renderOutput(dataTable, element);\n",
              "        const docLink = document.createElement('div');\n",
              "        docLink.innerHTML = docLinkHtml;\n",
              "        element.appendChild(docLink);\n",
              "      }\n",
              "    </script>\n",
              "  </div>\n",
              "\n",
              "\n",
              "<div id=\"df-de18376c-8b4a-4da8-8452-8a5aa5e8e433\">\n",
              "  <button class=\"colab-df-quickchart\" onclick=\"quickchart('df-de18376c-8b4a-4da8-8452-8a5aa5e8e433')\"\n",
              "            title=\"Suggest charts\"\n",
              "            style=\"display:none;\">\n",
              "\n",
              "<svg xmlns=\"http://www.w3.org/2000/svg\" height=\"24px\"viewBox=\"0 0 24 24\"\n",
              "     width=\"24px\">\n",
              "    <g>\n",
              "        <path d=\"M19 3H5c-1.1 0-2 .9-2 2v14c0 1.1.9 2 2 2h14c1.1 0 2-.9 2-2V5c0-1.1-.9-2-2-2zM9 17H7v-7h2v7zm4 0h-2V7h2v10zm4 0h-2v-4h2v4z\"/>\n",
              "    </g>\n",
              "</svg>\n",
              "  </button>\n",
              "\n",
              "<style>\n",
              "  .colab-df-quickchart {\n",
              "      --bg-color: #E8F0FE;\n",
              "      --fill-color: #1967D2;\n",
              "      --hover-bg-color: #E2EBFA;\n",
              "      --hover-fill-color: #174EA6;\n",
              "      --disabled-fill-color: #AAA;\n",
              "      --disabled-bg-color: #DDD;\n",
              "  }\n",
              "\n",
              "  [theme=dark] .colab-df-quickchart {\n",
              "      --bg-color: #3B4455;\n",
              "      --fill-color: #D2E3FC;\n",
              "      --hover-bg-color: #434B5C;\n",
              "      --hover-fill-color: #FFFFFF;\n",
              "      --disabled-bg-color: #3B4455;\n",
              "      --disabled-fill-color: #666;\n",
              "  }\n",
              "\n",
              "  .colab-df-quickchart {\n",
              "    background-color: var(--bg-color);\n",
              "    border: none;\n",
              "    border-radius: 50%;\n",
              "    cursor: pointer;\n",
              "    display: none;\n",
              "    fill: var(--fill-color);\n",
              "    height: 32px;\n",
              "    padding: 0;\n",
              "    width: 32px;\n",
              "  }\n",
              "\n",
              "  .colab-df-quickchart:hover {\n",
              "    background-color: var(--hover-bg-color);\n",
              "    box-shadow: 0 1px 2px rgba(60, 64, 67, 0.3), 0 1px 3px 1px rgba(60, 64, 67, 0.15);\n",
              "    fill: var(--button-hover-fill-color);\n",
              "  }\n",
              "\n",
              "  .colab-df-quickchart-complete:disabled,\n",
              "  .colab-df-quickchart-complete:disabled:hover {\n",
              "    background-color: var(--disabled-bg-color);\n",
              "    fill: var(--disabled-fill-color);\n",
              "    box-shadow: none;\n",
              "  }\n",
              "\n",
              "  .colab-df-spinner {\n",
              "    border: 2px solid var(--fill-color);\n",
              "    border-color: transparent;\n",
              "    border-bottom-color: var(--fill-color);\n",
              "    animation:\n",
              "      spin 1s steps(1) infinite;\n",
              "  }\n",
              "\n",
              "  @keyframes spin {\n",
              "    0% {\n",
              "      border-color: transparent;\n",
              "      border-bottom-color: var(--fill-color);\n",
              "      border-left-color: var(--fill-color);\n",
              "    }\n",
              "    20% {\n",
              "      border-color: transparent;\n",
              "      border-left-color: var(--fill-color);\n",
              "      border-top-color: var(--fill-color);\n",
              "    }\n",
              "    30% {\n",
              "      border-color: transparent;\n",
              "      border-left-color: var(--fill-color);\n",
              "      border-top-color: var(--fill-color);\n",
              "      border-right-color: var(--fill-color);\n",
              "    }\n",
              "    40% {\n",
              "      border-color: transparent;\n",
              "      border-right-color: var(--fill-color);\n",
              "      border-top-color: var(--fill-color);\n",
              "    }\n",
              "    60% {\n",
              "      border-color: transparent;\n",
              "      border-right-color: var(--fill-color);\n",
              "    }\n",
              "    80% {\n",
              "      border-color: transparent;\n",
              "      border-right-color: var(--fill-color);\n",
              "      border-bottom-color: var(--fill-color);\n",
              "    }\n",
              "    90% {\n",
              "      border-color: transparent;\n",
              "      border-bottom-color: var(--fill-color);\n",
              "    }\n",
              "  }\n",
              "</style>\n",
              "\n",
              "  <script>\n",
              "    async function quickchart(key) {\n",
              "      const quickchartButtonEl =\n",
              "        document.querySelector('#' + key + ' button');\n",
              "      quickchartButtonEl.disabled = true;  // To prevent multiple clicks.\n",
              "      quickchartButtonEl.classList.add('colab-df-spinner');\n",
              "      try {\n",
              "        const charts = await google.colab.kernel.invokeFunction(\n",
              "            'suggestCharts', [key], {});\n",
              "      } catch (error) {\n",
              "        console.error('Error during call to suggestCharts:', error);\n",
              "      }\n",
              "      quickchartButtonEl.classList.remove('colab-df-spinner');\n",
              "      quickchartButtonEl.classList.add('colab-df-quickchart-complete');\n",
              "    }\n",
              "    (() => {\n",
              "      let quickchartButtonEl =\n",
              "        document.querySelector('#df-de18376c-8b4a-4da8-8452-8a5aa5e8e433 button');\n",
              "      quickchartButtonEl.style.display =\n",
              "        google.colab.kernel.accessAllowed ? 'block' : 'none';\n",
              "    })();\n",
              "  </script>\n",
              "</div>\n",
              "\n",
              "  <div id=\"id_caff5bb2-6299-445e-96d0-2530d9daec32\">\n",
              "    <style>\n",
              "      .colab-df-generate {\n",
              "        background-color: #E8F0FE;\n",
              "        border: none;\n",
              "        border-radius: 50%;\n",
              "        cursor: pointer;\n",
              "        display: none;\n",
              "        fill: #1967D2;\n",
              "        height: 32px;\n",
              "        padding: 0 0 0 0;\n",
              "        width: 32px;\n",
              "      }\n",
              "\n",
              "      .colab-df-generate:hover {\n",
              "        background-color: #E2EBFA;\n",
              "        box-shadow: 0px 1px 2px rgba(60, 64, 67, 0.3), 0px 1px 3px 1px rgba(60, 64, 67, 0.15);\n",
              "        fill: #174EA6;\n",
              "      }\n",
              "\n",
              "      [theme=dark] .colab-df-generate {\n",
              "        background-color: #3B4455;\n",
              "        fill: #D2E3FC;\n",
              "      }\n",
              "\n",
              "      [theme=dark] .colab-df-generate:hover {\n",
              "        background-color: #434B5C;\n",
              "        box-shadow: 0px 1px 3px 1px rgba(0, 0, 0, 0.15);\n",
              "        filter: drop-shadow(0px 1px 2px rgba(0, 0, 0, 0.3));\n",
              "        fill: #FFFFFF;\n",
              "      }\n",
              "    </style>\n",
              "    <button class=\"colab-df-generate\" onclick=\"generateWithVariable('stmrs')\"\n",
              "            title=\"Generate code using this dataframe.\"\n",
              "            style=\"display:none;\">\n",
              "\n",
              "  <svg xmlns=\"http://www.w3.org/2000/svg\" height=\"24px\"viewBox=\"0 0 24 24\"\n",
              "       width=\"24px\">\n",
              "    <path d=\"M7,19H8.4L18.45,9,17,7.55,7,17.6ZM5,21V16.75L18.45,3.32a2,2,0,0,1,2.83,0l1.4,1.43a1.91,1.91,0,0,1,.58,1.4,1.91,1.91,0,0,1-.58,1.4L9.25,21ZM18.45,9,17,7.55Zm-12,3A5.31,5.31,0,0,0,4.9,8.1,5.31,5.31,0,0,0,1,6.5,5.31,5.31,0,0,0,4.9,4.9,5.31,5.31,0,0,0,6.5,1,5.31,5.31,0,0,0,8.1,4.9,5.31,5.31,0,0,0,12,6.5,5.46,5.46,0,0,0,6.5,12Z\"/>\n",
              "  </svg>\n",
              "    </button>\n",
              "    <script>\n",
              "      (() => {\n",
              "      const buttonEl =\n",
              "        document.querySelector('#id_caff5bb2-6299-445e-96d0-2530d9daec32 button.colab-df-generate');\n",
              "      buttonEl.style.display =\n",
              "        google.colab.kernel.accessAllowed ? 'block' : 'none';\n",
              "\n",
              "      buttonEl.onclick = () => {\n",
              "        google.colab.notebook.generateWithVariable('stmrs');\n",
              "      }\n",
              "      })();\n",
              "    </script>\n",
              "  </div>\n",
              "\n",
              "    </div>\n",
              "  </div>\n"
            ],
            "application/vnd.google.colaboratory.intrinsic+json": {
              "type": "dataframe",
              "variable_name": "stmrs",
              "summary": "{\n  \"name\": \"stmrs\",\n  \"rows\": 11,\n  \"fields\": [\n    {\n      \"column\": \"Porter\",\n      \"properties\": {\n        \"dtype\": \"string\",\n        \"num_unique_values\": 8,\n        \"samples\": [\n          \"got\",\n          \"quickli\",\n          \"get\"\n        ],\n        \"semantic_type\": \"\",\n        \"description\": \"\"\n      }\n    },\n    {\n      \"column\": \"Lancaster\",\n      \"properties\": {\n        \"dtype\": \"string\",\n        \"num_unique_values\": 8,\n        \"samples\": [\n          \"got\",\n          \"quick\",\n          \"get\"\n        ],\n        \"semantic_type\": \"\",\n        \"description\": \"\"\n      }\n    },\n    {\n      \"column\": \"Snowball\",\n      \"properties\": {\n        \"dtype\": \"string\",\n        \"num_unique_values\": 8,\n        \"samples\": [\n          \"got\",\n          \"quick\",\n          \"get\"\n        ],\n        \"semantic_type\": \"\",\n        \"description\": \"\"\n      }\n    },\n    {\n      \"column\": \"RegExp\",\n      \"properties\": {\n        \"dtype\": \"string\",\n        \"num_unique_values\": 10,\n        \"samples\": [\n          \"argue\",\n          \"got\",\n          \"quickly\"\n        ],\n        \"semantic_type\": \"\",\n        \"description\": \"\"\n      }\n    },\n    {\n      \"column\": \"WordNet\",\n      \"properties\": {\n        \"dtype\": \"string\",\n        \"num_unique_values\": 11,\n        \"samples\": [\n          \"quickly\",\n          \"getting\",\n          \"argued\"\n        ],\n        \"semantic_type\": \"\",\n        \"description\": \"\"\n      }\n    },\n    {\n      \"column\": \"WordNet2\",\n      \"properties\": {\n        \"dtype\": \"string\",\n        \"num_unique_values\": 6,\n        \"samples\": [\n          \"get\",\n          \"do\",\n          \"argue\"\n        ],\n        \"semantic_type\": \"\",\n        \"description\": \"\"\n      }\n    }\n  ]\n}"
            }
          },
          "metadata": {},
          "execution_count": 98
        }
      ]
    },
    {
      "cell_type": "markdown",
      "metadata": {
        "id": "AhzdNoM913Oo"
      },
      "source": [
        "## Szabályalapú lemmatizáció\n",
        "\n",
        "Véges állapotú automatákat építhetünk nyelvészeti szabályrendszer alapján, ami \"végig megy\" a token karakterein és így kerül meghatározásra a lemma (és a morfológiai címkék). Az SZTE-en fejlesztett [magyarlánc](https://rgai.inf.u-szeged.hu/magyarlanc) például ezt a technikát alkalmazza. Neurális hálók esetében pedig tanítás során kreált szabályokkal osztályozunk, amiket tudunk alkalmazni a tokenünkre, hogy megkapjuk a lemmánkat. A HuSpaCy az utóbbi kategoriába sorolható, ami egy úgy nevezett [edit tree lemmatizer-t](https://explosion.ai/blog/edit-tree-lemmatizer) tartalmaz.\n"
      ]
    },
    {
      "cell_type": "markdown",
      "metadata": {
        "id": "CBRlup1v_PKQ"
      },
      "source": [
        "Alakítsuk át ennek megfelelően a fenti `example_words` listánkat, hogy az egyes szavak a spaCy esetei legyenek. Majd használjuk a spaCy neurális hálón alapú lemmatizálóját a szavak szótári alakjának meghatározásához."
      ]
    },
    {
      "cell_type": "code",
      "metadata": {
        "id": "bhZgq-G_4Kfn"
      },
      "source": [
        "example_words = ['játszani', 'megszereztem', 'elvégezte', 'csináltam', 'kutyák', 'gyorsan', 'lassan', 'cicákat', 'nevet', 'érvelt', 'lovak']\n",
        "example_words = [nlp_hu(word) for word in example_words]"
      ],
      "execution_count": null,
      "outputs": []
    },
    {
      "cell_type": "code",
      "metadata": {
        "id": "iv1DTFGl4pVG",
        "colab": {
          "base_uri": "https://localhost:8080/"
        },
        "outputId": "8b16f596-8de2-46f0-a735-2dff24173fd2"
      },
      "source": [
        "for word in example_words:\n",
        "  print(word[0].text, word[0].lemma_, sep=\" -> \")"
      ],
      "execution_count": null,
      "outputs": [
        {
          "output_type": "stream",
          "name": "stdout",
          "text": [
            "játszani -> játszik\n",
            "megszereztem -> megszerez\n",
            "elvégezte -> elvégez\n",
            "csináltam -> csinál\n",
            "kutyák -> kutya\n",
            "gyorsan -> gyors\n",
            "lassan -> lassú\n",
            "cicákat -> cica\n",
            "nevet -> név\n",
            "érvelt -> érvel\n",
            "lovak -> ló\n"
          ]
        }
      ]
    },
    {
      "cell_type": "markdown",
      "metadata": {
        "id": "7TcNrwoh9WRq"
      },
      "source": [
        "A lemma függhet annak szófajától is, ezért nézzük meg az egyes szavaink szófaját is. Vegyük figyelembe, hogy a szavak önállóan állnak, kontextus nélkül, így a szófaji meghatározás sok esetben pontatlan lehet."
      ]
    },
    {
      "cell_type": "code",
      "metadata": {
        "id": "zl0vyS0n9U07",
        "colab": {
          "base_uri": "https://localhost:8080/"
        },
        "outputId": "d8c1e2a5-7722-4e02-fe3b-a82b222352a7"
      },
      "source": [
        "for word in example_words:\n",
        "  print('{} ({}) -> {}'.format(word[0].text, word[0].pos_, word[0].lemma_))"
      ],
      "execution_count": null,
      "outputs": [
        {
          "output_type": "stream",
          "name": "stdout",
          "text": [
            "játszani (VERB) -> játszik\n",
            "megszereztem (VERB) -> megszerez\n",
            "elvégezte (VERB) -> elvégez\n",
            "csináltam (VERB) -> csinál\n",
            "kutyák (NOUN) -> kutya\n",
            "gyorsan (ADJ) -> gyors\n",
            "lassan (ADJ) -> lassú\n",
            "cicákat (NOUN) -> cica\n",
            "nevet (NOUN) -> név\n",
            "érvelt (ADJ) -> érvel\n",
            "lovak (NOUN) -> ló\n"
          ]
        }
      ]
    },
    {
      "cell_type": "markdown",
      "metadata": {
        "id": "-Ga9JMaP-JoT"
      },
      "source": [
        "Látjuk, hogy a `nevet` szó igeként került feldolgozásra, viszont ez főnévként is szerepelhet egy mondatban, és ekkor a lemmája is változhat:"
      ]
    },
    {
      "cell_type": "code",
      "metadata": {
        "id": "vCK-UQZhCUYT",
        "colab": {
          "base_uri": "https://localhost:8080/"
        },
        "outputId": "03691d8f-ebfc-4a2c-fa3e-3f948d3d055d"
      },
      "source": [
        "sent = nlp_hu('Mondtam egy random nevet, amin ő most is nevet.')\n",
        "for word in sent:\n",
        "  print('{} ({}) -> {}'.format(word.text, word.pos_, word.lemma_))"
      ],
      "execution_count": null,
      "outputs": [
        {
          "output_type": "stream",
          "name": "stdout",
          "text": [
            "Mondtam (VERB) -> mond\n",
            "egy (DET) -> egy\n",
            "random (ADJ) -> random\n",
            "nevet (NOUN) -> név\n",
            ", (PUNCT) -> ,\n",
            "amin (PRON) -> ami\n",
            "ő (PRON) -> ő\n",
            "most (ADV) -> most\n",
            "is (CCONJ) -> is\n",
            "nevet (NOUN) -> név\n",
            ". (PUNCT) -> .\n"
          ]
        }
      ]
    },
    {
      "cell_type": "markdown",
      "metadata": {
        "id": "4BwR9irk8cB-"
      },
      "source": [
        "A spaCy pipelinejait önálló elemként is használhatjuk. Ehhez először ki kell szednünk a pipelineból a lemmatizálót és alkotnunk kell egy Doc-ot kézzel."
      ]
    },
    {
      "cell_type": "code",
      "source": [
        "lemmatizer = nlp_hu.get_pipe(\"trainable_lemmatizer\")"
      ],
      "metadata": {
        "id": "VlaT5bg-dJHv"
      },
      "execution_count": null,
      "outputs": []
    },
    {
      "cell_type": "code",
      "source": [
        "from spacy.tokens import Doc\n",
        "words = ['nevet']\n",
        "spaces = [True]\n",
        "pos_tags = ['NOUN']\n",
        "sent_start = [False]\n",
        "\n",
        "doc_comp = Doc(nlp_hu.vocab, words=words, spaces=spaces, pos=pos_tags, sent_starts=sent_start)"
      ],
      "metadata": {
        "id": "9HPX46DOeGBt"
      },
      "execution_count": null,
      "outputs": []
    },
    {
      "cell_type": "code",
      "source": [
        "for token in lemmatizer(doc_comp):\n",
        "  print(token.pos_, token.lemma_)"
      ],
      "metadata": {
        "id": "6F6RrZBJdRG8",
        "colab": {
          "base_uri": "https://localhost:8080/"
        },
        "outputId": "31186330-f88d-44b4-f878-85bb57210f81"
      },
      "execution_count": null,
      "outputs": [
        {
          "output_type": "stream",
          "name": "stdout",
          "text": [
            "NOUN név\n"
          ]
        }
      ]
    },
    {
      "cell_type": "markdown",
      "metadata": {
        "id": "wM8dBqvOTv9n"
      },
      "source": [
        "# Szófaji egyértelműsítés (Part-of-Speech, PoS)\n"
      ]
    },
    {
      "cell_type": "markdown",
      "source": [
        "![Tagger](https://raw.githubusercontent.com/SzaboGergo01/student-data/main/NLP/tagger_figure_1.svg)"
      ],
      "metadata": {
        "id": "0lqL2xpVDHeR"
      }
    },
    {
      "cell_type": "code",
      "metadata": {
        "id": "5I9Ma2H-tiWG",
        "colab": {
          "base_uri": "https://localhost:8080/"
        },
        "outputId": "3db6297c-e685-4688-ed8a-1a979d9fef52"
      },
      "source": [
        "def print_token_feautres(token):\n",
        "    print(\n",
        "        token.text\n",
        "        + (16 - len(token.text)) * \" \"\n",
        "        + token.lemma_\n",
        "        + (16 - len(token.lemma_)) * \" \"\n",
        "        + token.pos_\n",
        "        + (7 - len(token.pos_)) * \" \"\n",
        "        + token.tag_\n",
        "        + (7 - len(token.tag_)) * \" \"\n",
        "        + token.dep_\n",
        "        + (13 - len(token.dep_)) * \" \"\n",
        "        + token.shape_\n",
        "        + (7 - len(token.shape_)) * \" \"\n",
        "        + str(token.is_alpha)\n",
        "        + (7 - len(str(token.is_alpha))) * \" \"\n",
        "        + str(token.is_stop)\n",
        "    )\n",
        "\n",
        "doc = nlp_hu(\"Az Apple egy U.K. startup megvásárlását tervezi 1 milliárd dollárért.\")\n",
        "doc = nlp_hu(\"Miért nyúl a nyúl?\")\n",
        "\n",
        "# tokenizálás\n",
        "print(\"Tokenek:\")\n",
        "print([token.text for token in doc])\n",
        "\n",
        "# lemmatizálás\n",
        "print(\"\\n\\nLemmák:\")\n",
        "print([token.lemma_ for token in doc])\n",
        "\n",
        "# POS tagging\n",
        "print(\"\\n\\nPOS tagek:\")\n",
        "for token in doc:\n",
        "    print_token_feautres(token)"
      ],
      "execution_count": null,
      "outputs": [
        {
          "output_type": "stream",
          "name": "stdout",
          "text": [
            "Tokenek:\n",
            "['Miért', 'nyúl', 'a', 'nyúl', '?']\n",
            "\n",
            "\n",
            "Lemmák:\n",
            "['miért', 'nyúl', 'a', 'nyúl', '?']\n",
            "\n",
            "\n",
            "POS tagek:\n",
            "Miért           miért           ADV    ADV    advmod:mode  Xxxxx  True   True\n",
            "nyúl            nyúl            VERB   VERB   ROOT         xxxx   True   False\n",
            "a               a               DET    DET    det          x      True   True\n",
            "nyúl            nyúl            NOUN   NOUN   nsubj        xxxx   True   False\n",
            "?               ?               PUNCT  PUNCT  punct        ?      False  False\n"
          ]
        }
      ]
    },
    {
      "cell_type": "markdown",
      "metadata": {
        "id": "EjpB0cPpGv7w"
      },
      "source": [
        "## POS rövidítések\n",
        "\n",
        "Egy kis segítség a rövidítésekhez a hardcore érdeklődőknek: https://universaldependencies.org/u/pos/index.html\n"
      ]
    },
    {
      "cell_type": "markdown",
      "source": [
        "# Morfológiai leírások (Morphology)"
      ],
      "metadata": {
        "id": "1woTh0w1oBHj"
      }
    },
    {
      "cell_type": "markdown",
      "source": [
        "A morfológia a nyelvészet azon ága, amely a szavak belső szerkezetét vizsgálja.\n",
        "A magyar nyelv alapvetően egy agglutináló nyelv, ami azt jelenti, hogy a szavaknak a szótövéhez végződések tartozhatnak, illetve akár előtag is társulhat egy adott szóhoz. A magyarban ezek a toldalékok fejezik ki a mondat szavainak egymáshoz való viszonyát, ellentétben például az angollal, ahol ezeket főként különálló, funkciószavak írják le. Az angolban így a magyarhoz képest nagyon kevés toldalalék létezik és azokat le lehet kezelni pár egyszerű szabállyal. Éppen ezért lesz nehezebb a magyar nyelvre egy morfológia elemzést végrehajtani, mert egy egyszerű előtag vagy toldalalék képes megváltoztatni a szó szerkezetét, jelentését."
      ],
      "metadata": {
        "id": "dYIIBGB2t03a"
      }
    },
    {
      "cell_type": "code",
      "source": [
        "sent = nlp_hu('A Pythont az 1980-as évek végén hozták létre, és először 1991-ben adta ki Guido van Rossum az ABC programozási nyelv utódjaként.')\n",
        "for word in sent:\n",
        "  print('{} -> {}'.format(word.text, word.morph))"
      ],
      "metadata": {
        "id": "Kt2fdnljqb6R",
        "colab": {
          "base_uri": "https://localhost:8080/"
        },
        "outputId": "f7b183ca-54f0-4feb-dcd2-8539c3fda28e"
      },
      "execution_count": null,
      "outputs": [
        {
          "output_type": "stream",
          "name": "stdout",
          "text": [
            "A -> Definite=Def|PronType=Art\n",
            "Pythont -> Case=Acc|Number=Sing\n",
            "az -> Definite=Def|PronType=Art\n",
            "1980-as -> Case=Nom|Degree=Pos|Number=Sing\n",
            "évek -> Case=Nom|Number=Plur\n",
            "végén -> Case=Sup|Number=Sing|Number[psor]=Sing|Person[psor]=3\n",
            "hozták -> Definite=Def|Mood=Ind|Number=Plur|Person=3|Tense=Past|VerbForm=Fin|Voice=Act\n",
            "létre -> Case=Sbl|Number=Sing\n",
            ", -> \n",
            "és -> \n",
            "először -> \n",
            "1991-ben -> Case=Ine|NumType=Card|Number=Sing\n",
            "adta -> Definite=Def|Mood=Ind|Number=Sing|Person=3|Tense=Past|VerbForm=Fin|Voice=Act\n",
            "ki -> Degree=Pos\n",
            "Guido -> Case=Nom|Number=Sing\n",
            "van -> Definite=Ind|Mood=Ind|Number=Sing|Person=3|Tense=Pres|VerbForm=Fin|Voice=Act\n",
            "Rossum -> Case=Nom|Number=Sing\n",
            "az -> Definite=Def|PronType=Art\n",
            "ABC -> Case=Nom|Number=Sing\n",
            "programozási -> Case=Nom|Degree=Pos|Number=Sing\n",
            "nyelv -> Case=Nom|Number=Sing\n",
            "utódjaként -> Case=Abs|Number=Sing|Number[psor]=Sing|Person[psor]=3\n",
            ". -> \n"
          ]
        }
      ]
    },
    {
      "cell_type": "markdown",
      "source": [
        "## Conllu formátum\n",
        "\n",
        "Számos lehetőség van arra, hogy kiírassuk ezeket az információkat, akár valamilyen szeparátorral vagy esetleg tabulátorral. Viszont időigényes folyton így használni őket, ezért létezik egy úgynevezett `conllu` form, ami ezen a területen nagyon elterjedt. Ehhez létezik is egy [csomag](https://pypi.org/project/conllu/), amit nagyon sokan használnak is. Létezik továbbá egy [spaCy-hez](https://spacy.io/universe/project/spacy-conll) készült csomag is, ami át tudja konvertálni a mondatot `conllu` formába."
      ],
      "metadata": {
        "id": "mPu_YTGzxNuk"
      }
    },
    {
      "cell_type": "code",
      "source": [
        "!pip install spacy_conll"
      ],
      "metadata": {
        "id": "Q4PdR3EXp_uz",
        "colab": {
          "base_uri": "https://localhost:8080/"
        },
        "outputId": "5b8eb334-58b7-498d-f040-154157a2b320"
      },
      "execution_count": null,
      "outputs": [
        {
          "output_type": "stream",
          "name": "stdout",
          "text": [
            "Requirement already satisfied: spacy_conll in /usr/local/lib/python3.11/dist-packages (4.0.1)\n",
            "Requirement already satisfied: spacy>=3.0.1 in /usr/local/lib/python3.11/dist-packages (from spacy_conll) (3.8.5)\n",
            "Requirement already satisfied: spacy-legacy<3.1.0,>=3.0.11 in /usr/local/lib/python3.11/dist-packages (from spacy>=3.0.1->spacy_conll) (3.0.12)\n",
            "Requirement already satisfied: spacy-loggers<2.0.0,>=1.0.0 in /usr/local/lib/python3.11/dist-packages (from spacy>=3.0.1->spacy_conll) (1.0.5)\n",
            "Requirement already satisfied: murmurhash<1.1.0,>=0.28.0 in /usr/local/lib/python3.11/dist-packages (from spacy>=3.0.1->spacy_conll) (1.0.12)\n",
            "Requirement already satisfied: cymem<2.1.0,>=2.0.2 in /usr/local/lib/python3.11/dist-packages (from spacy>=3.0.1->spacy_conll) (2.0.11)\n",
            "Requirement already satisfied: preshed<3.1.0,>=3.0.2 in /usr/local/lib/python3.11/dist-packages (from spacy>=3.0.1->spacy_conll) (3.0.9)\n",
            "Requirement already satisfied: thinc<8.4.0,>=8.3.4 in /usr/local/lib/python3.11/dist-packages (from spacy>=3.0.1->spacy_conll) (8.3.4)\n",
            "Requirement already satisfied: wasabi<1.2.0,>=0.9.1 in /usr/local/lib/python3.11/dist-packages (from spacy>=3.0.1->spacy_conll) (1.1.3)\n",
            "Requirement already satisfied: srsly<3.0.0,>=2.4.3 in /usr/local/lib/python3.11/dist-packages (from spacy>=3.0.1->spacy_conll) (2.5.1)\n",
            "Requirement already satisfied: catalogue<2.1.0,>=2.0.6 in /usr/local/lib/python3.11/dist-packages (from spacy>=3.0.1->spacy_conll) (2.0.10)\n",
            "Requirement already satisfied: weasel<0.5.0,>=0.1.0 in /usr/local/lib/python3.11/dist-packages (from spacy>=3.0.1->spacy_conll) (0.4.1)\n",
            "Requirement already satisfied: typer<1.0.0,>=0.3.0 in /usr/local/lib/python3.11/dist-packages (from spacy>=3.0.1->spacy_conll) (0.15.2)\n",
            "Requirement already satisfied: tqdm<5.0.0,>=4.38.0 in /usr/local/lib/python3.11/dist-packages (from spacy>=3.0.1->spacy_conll) (4.67.1)\n",
            "Requirement already satisfied: numpy>=1.19.0 in /usr/local/lib/python3.11/dist-packages (from spacy>=3.0.1->spacy_conll) (2.0.2)\n",
            "Requirement already satisfied: requests<3.0.0,>=2.13.0 in /usr/local/lib/python3.11/dist-packages (from spacy>=3.0.1->spacy_conll) (2.32.3)\n",
            "Requirement already satisfied: pydantic!=1.8,!=1.8.1,<3.0.0,>=1.7.4 in /usr/local/lib/python3.11/dist-packages (from spacy>=3.0.1->spacy_conll) (2.11.2)\n",
            "Requirement already satisfied: jinja2 in /usr/local/lib/python3.11/dist-packages (from spacy>=3.0.1->spacy_conll) (3.1.6)\n",
            "Requirement already satisfied: setuptools in /usr/local/lib/python3.11/dist-packages (from spacy>=3.0.1->spacy_conll) (75.2.0)\n",
            "Requirement already satisfied: packaging>=20.0 in /usr/local/lib/python3.11/dist-packages (from spacy>=3.0.1->spacy_conll) (21.3)\n",
            "Requirement already satisfied: langcodes<4.0.0,>=3.2.0 in /usr/local/lib/python3.11/dist-packages (from spacy>=3.0.1->spacy_conll) (3.5.0)\n",
            "Requirement already satisfied: language-data>=1.2 in /usr/local/lib/python3.11/dist-packages (from langcodes<4.0.0,>=3.2.0->spacy>=3.0.1->spacy_conll) (1.3.0)\n",
            "Requirement already satisfied: pyparsing!=3.0.5,>=2.0.2 in /usr/local/lib/python3.11/dist-packages (from packaging>=20.0->spacy>=3.0.1->spacy_conll) (3.2.3)\n",
            "Requirement already satisfied: annotated-types>=0.6.0 in /usr/local/lib/python3.11/dist-packages (from pydantic!=1.8,!=1.8.1,<3.0.0,>=1.7.4->spacy>=3.0.1->spacy_conll) (0.7.0)\n",
            "Requirement already satisfied: pydantic-core==2.33.1 in /usr/local/lib/python3.11/dist-packages (from pydantic!=1.8,!=1.8.1,<3.0.0,>=1.7.4->spacy>=3.0.1->spacy_conll) (2.33.1)\n",
            "Requirement already satisfied: typing-extensions>=4.12.2 in /usr/local/lib/python3.11/dist-packages (from pydantic!=1.8,!=1.8.1,<3.0.0,>=1.7.4->spacy>=3.0.1->spacy_conll) (4.13.1)\n",
            "Requirement already satisfied: typing-inspection>=0.4.0 in /usr/local/lib/python3.11/dist-packages (from pydantic!=1.8,!=1.8.1,<3.0.0,>=1.7.4->spacy>=3.0.1->spacy_conll) (0.4.0)\n",
            "Requirement already satisfied: charset-normalizer<4,>=2 in /usr/local/lib/python3.11/dist-packages (from requests<3.0.0,>=2.13.0->spacy>=3.0.1->spacy_conll) (3.4.1)\n",
            "Requirement already satisfied: idna<4,>=2.5 in /usr/local/lib/python3.11/dist-packages (from requests<3.0.0,>=2.13.0->spacy>=3.0.1->spacy_conll) (3.10)\n",
            "Requirement already satisfied: urllib3<3,>=1.21.1 in /usr/local/lib/python3.11/dist-packages (from requests<3.0.0,>=2.13.0->spacy>=3.0.1->spacy_conll) (2.3.0)\n",
            "Requirement already satisfied: certifi>=2017.4.17 in /usr/local/lib/python3.11/dist-packages (from requests<3.0.0,>=2.13.0->spacy>=3.0.1->spacy_conll) (2025.1.31)\n",
            "Requirement already satisfied: blis<1.3.0,>=1.2.0 in /usr/local/lib/python3.11/dist-packages (from thinc<8.4.0,>=8.3.4->spacy>=3.0.1->spacy_conll) (1.2.1)\n",
            "Requirement already satisfied: confection<1.0.0,>=0.0.1 in /usr/local/lib/python3.11/dist-packages (from thinc<8.4.0,>=8.3.4->spacy>=3.0.1->spacy_conll) (0.1.5)\n",
            "Requirement already satisfied: click>=8.0.0 in /usr/local/lib/python3.11/dist-packages (from typer<1.0.0,>=0.3.0->spacy>=3.0.1->spacy_conll) (8.1.8)\n",
            "Requirement already satisfied: shellingham>=1.3.0 in /usr/local/lib/python3.11/dist-packages (from typer<1.0.0,>=0.3.0->spacy>=3.0.1->spacy_conll) (1.5.4)\n",
            "Requirement already satisfied: rich>=10.11.0 in /usr/local/lib/python3.11/dist-packages (from typer<1.0.0,>=0.3.0->spacy>=3.0.1->spacy_conll) (13.9.4)\n",
            "Requirement already satisfied: cloudpathlib<1.0.0,>=0.7.0 in /usr/local/lib/python3.11/dist-packages (from weasel<0.5.0,>=0.1.0->spacy>=3.0.1->spacy_conll) (0.21.0)\n",
            "Requirement already satisfied: smart-open<8.0.0,>=5.2.1 in /usr/local/lib/python3.11/dist-packages (from weasel<0.5.0,>=0.1.0->spacy>=3.0.1->spacy_conll) (7.1.0)\n",
            "Requirement already satisfied: MarkupSafe>=2.0 in /usr/local/lib/python3.11/dist-packages (from jinja2->spacy>=3.0.1->spacy_conll) (3.0.2)\n",
            "Requirement already satisfied: marisa-trie>=1.1.0 in /usr/local/lib/python3.11/dist-packages (from language-data>=1.2->langcodes<4.0.0,>=3.2.0->spacy>=3.0.1->spacy_conll) (1.2.1)\n",
            "Requirement already satisfied: markdown-it-py>=2.2.0 in /usr/local/lib/python3.11/dist-packages (from rich>=10.11.0->typer<1.0.0,>=0.3.0->spacy>=3.0.1->spacy_conll) (3.0.0)\n",
            "Requirement already satisfied: pygments<3.0.0,>=2.13.0 in /usr/local/lib/python3.11/dist-packages (from rich>=10.11.0->typer<1.0.0,>=0.3.0->spacy>=3.0.1->spacy_conll) (2.18.0)\n",
            "Requirement already satisfied: wrapt in /usr/local/lib/python3.11/dist-packages (from smart-open<8.0.0,>=5.2.1->weasel<0.5.0,>=0.1.0->spacy>=3.0.1->spacy_conll) (1.17.2)\n",
            "Requirement already satisfied: mdurl~=0.1 in /usr/local/lib/python3.11/dist-packages (from markdown-it-py>=2.2.0->rich>=10.11.0->typer<1.0.0,>=0.3.0->spacy>=3.0.1->spacy_conll) (0.1.2)\n"
          ]
        }
      ]
    },
    {
      "cell_type": "code",
      "source": [
        "from spacy_conll import init_parser"
      ],
      "metadata": {
        "id": "i3zBG_0MqY_k"
      },
      "execution_count": null,
      "outputs": []
    },
    {
      "cell_type": "code",
      "source": [
        "nlp_conllu = init_parser(\"hu_core_news_lg\",\n",
        "                  \"spacy\",\n",
        "                  include_headers=True)\n",
        "# Adott szöveget lefuttatjuk\n",
        "doc = nlp_conllu(\"A Szaturnuszon gyakoriak a gyémántesők. Tudósok becslései szerint miden évben több ezer körülbelül egy centiméter átmérőjű kis kövecske hull alá az égből. Mellesleg ugyan ez történik a Jupiteren is.\")\n",
        "\n",
        "# A `Doc`-on egy attribútumként megkapjuk a `conllu` formát\n",
        "conll = doc._.conll_str\n",
        "print(conll)"
      ],
      "metadata": {
        "id": "Wfou_wFD1DEv",
        "colab": {
          "base_uri": "https://localhost:8080/"
        },
        "outputId": "c4fdb16e-cdd9-4419-d55a-a2522a375a5d"
      },
      "execution_count": null,
      "outputs": [
        {
          "output_type": "stream",
          "name": "stdout",
          "text": [
            "# sent_id = 1\n",
            "# text = A Szaturnuszon gyakoriak a gyémántesők.\n",
            "1\tA\ta\tDET\tDET\tDefinite=Def|PronType=Art\t2\tdet\t_\t_\n",
            "2\tSzaturnuszon\tSzaturnusz\tPROPN\tPROPN\tCase=Sup|Number=Sing\t3\tobl\t_\t_\n",
            "3\tgyakoriak\tgyakori\tADJ\tADJ\tCase=Nom|Degree=Pos|Number=Sing\t0\tROOT\t_\t_\n",
            "4\ta\ta\tDET\tDET\tDefinite=Def|PronType=Art\t5\tdet\t_\t_\n",
            "5\tgyémántesők\tgyémánteső\tNOUN\tNOUN\tCase=Nom|Number=Plur\t3\tnsubj\t_\tSpaceAfter=No\n",
            "6\t.\t.\tPUNCT\tPUNCT\t_\t3\tpunct\t_\t_\n",
            "\n",
            "# sent_id = 2\n",
            "# text = Tudósok becslései szerint miden évben több ezer körülbelül egy centiméter átmérőjű kis kövecske hull alá az égből.\n",
            "1\tTudósok\ttudós\tNOUN\tNOUN\tCase=Nom|Number=Plur\t2\tnmod:att\t_\t_\n",
            "2\tbecslései\tbecslés\tNOUN\tNOUN\tCase=Nom|Number=Plur|Number[psor]=Sing|Person[psor]=3\t14\tobl\t_\t_\n",
            "3\tszerint\tszerint\tADP\tADP\t_\t2\tcase\t_\t_\n",
            "4\tmiden\tmiden\tX\tNOUN\t_\t5\tdet\t_\t_\n",
            "5\tévben\tév\tNOUN\tNOUN\tCase=Ine|Number=Sing\t14\tobl\t_\t_\n",
            "6\ttöbb\ttöbb\tNUM\tNUM\tCase=Nom|NumType=Card|Number=Sing\t7\tcompound\t_\t_\n",
            "7\tezer\tezer\tNUM\tNUM\tCase=Nom|NumType=Card|Number=Sing\t10\tamod:att\t_\t_\n",
            "8\tkörülbelül\tkörülbelül\tADV\tADV\t_\t9\tadvmod:mode\t_\t_\n",
            "9\tegy\tegy\tDET\tDET\tDefinite=Ind|PronType=Art\t10\tdet\t_\t_\n",
            "10\tcentiméter\tcentiméter\tNOUN\tNOUN\tCase=Nom|Number=Sing\t11\tnmod:att\t_\t_\n",
            "11\tátmérőjű\tátmérőjű\tADJ\tADJ\tCase=Nom|Degree=Pos|Number=Sing\t13\tamod:att\t_\t_\n",
            "12\tkis\tkis\tADJ\tADJ\tCase=Nom|Degree=Pos|Number=Sing\t13\tamod:att\t_\t_\n",
            "13\tkövecske\tkövecske\tNOUN\tNOUN\tCase=Nom|Number=Sing\t14\tnsubj\t_\t_\n",
            "14\thull\thull\tVERB\tVERB\tDefinite=Ind|Mood=Ind|Number=Sing|Person=3|Tense=Pres|VerbForm=Fin|Voice=Act\t0\tROOT\t_\t_\n",
            "15\talá\talá\tADP\tADP\t_\t14\tcompound:preverb\t_\t_\n",
            "16\taz\taz\tDET\tDET\tDefinite=Def|PronType=Art\t17\tdet\t_\t_\n",
            "17\tégből\tég\tNOUN\tNOUN\tCase=Ela|Number=Sing\t14\tobl\t_\tSpaceAfter=No\n",
            "18\t.\t.\tPUNCT\tPUNCT\t_\t14\tpunct\t_\t_\n",
            "\n",
            "# sent_id = 3\n",
            "# text = Mellesleg ugyan ez történik a Jupiteren is.\n",
            "1\tMellesleg\tmellesleg\tADV\tADV\t_\t4\tadvmod:mode\t_\t_\n",
            "2\tugyan\tugyan\tSCONJ\tSCONJ\t_\t4\tcc\t_\t_\n",
            "3\tez\tez\tPRON\tPRON\tCase=Nom|Number=Sing|Person=3|PronType=Dem\t4\tnsubj\t_\t_\n",
            "4\ttörténik\ttörténik\tVERB\tVERB\tDefinite=Ind|Mood=Ind|Number=Sing|Person=3|Tense=Pres|VerbForm=Fin|Voice=Act\t0\tROOT\t_\t_\n",
            "5\ta\ta\tDET\tDET\tDefinite=Def|PronType=Art\t6\tdet\t_\t_\n",
            "6\tJupiteren\tJupiter\tPROPN\tPROPN\tCase=Sup|Number=Sing\t4\tobl\t_\t_\n",
            "7\tis\tis\tCCONJ\tCCONJ\t_\t6\tcc\t_\tSpaceAfter=No\n",
            "8\t.\t.\tPUNCT\tPUNCT\t_\t4\tpunct\t_\tSpaceAfter=No\n",
            "\n"
          ]
        }
      ]
    },
    {
      "cell_type": "markdown",
      "source": [
        "## Morfológiai leírások részletesen\n",
        "\n",
        "Szintén egy kis segítség a rövidítésekhez a hardcore érdeklődőknek: https://universaldependencies.org/u/feat/index.html"
      ],
      "metadata": {
        "id": "62-CuReiBWre"
      }
    },
    {
      "cell_type": "markdown",
      "metadata": {
        "id": "zbgrxm36Ip0G"
      },
      "source": [
        "# Modellek összehasonlítása\n",
        "\n",
        "Nézzük meg végül, hogy hogyan teljesítenek a különböző nyelvű modellek a magyar nyelven írt mondatokra."
      ]
    },
    {
      "cell_type": "code",
      "metadata": {
        "id": "OybZJlQGpLjU"
      },
      "source": [
        "# Különböző spaCy nyelvi modellek összehasonlítása\n",
        "nlp_en = spacy.load(\"en_core_web_sm\")\n",
        "#nlp_hu = hu_core_news_trf.load()\n",
        "nlp_hu = spacy.load(\"hu_core_news_lg\")\n",
        "nlp_xx = xx_ent_wiki_sm.load()\n",
        "\n",
        "def compare_multilang(txt):\n",
        "  # Angol\n",
        "  doc_en = nlp_en(txt)\n",
        "  print(\"Angol spaCy\\n\")\n",
        "  for token in doc_en:\n",
        "      print_token_feautres(token)\n",
        "\n",
        "  # Magyar\n",
        "  doc_hu = nlp_hu(txt)\n",
        "  print(75 * \"-\" + \"\\n\\nHuSpaCy\\n\")\n",
        "  for token in doc_hu:\n",
        "      print_token_feautres(token)\n",
        "\n",
        "  # Többnyelvű\n",
        "  doc_xx = nlp_xx(txt)\n",
        "  print(75 * \"-\" + \"\\n\\nMultilingual spaCy\\n\")\n",
        "  for token in doc_xx:\n",
        "      print_token_feautres(token)"
      ],
      "execution_count": null,
      "outputs": []
    },
    {
      "cell_type": "code",
      "source": [
        "# Magyar szövegre az angol spaCy szinte mindent névmásnak tekint\n",
        "compare_multilang('A vérünkben arany is található, de mielőtt elgondolkoznál azon, hogy otthagyod az egyetemet emiatt, ne tedd, mert a legtöbb test csak körülbelül 0,2 miligrammot tartalmaz.')"
      ],
      "metadata": {
        "id": "emzt-9tlf-LH",
        "colab": {
          "base_uri": "https://localhost:8080/"
        },
        "outputId": "b9f6a7a1-105d-4bea-96f2-bfa934c13b07"
      },
      "execution_count": null,
      "outputs": [
        {
          "output_type": "stream",
          "name": "stdout",
          "text": [
            "Angol spaCy\n",
            "\n",
            "A               a               DET    DT     det          X      True   True\n",
            "vérünkben       vérünkben       ADJ    JJ     amod         xxxx   True   False\n",
            "arany           arany           NOUN   NN     nsubj        xxxx   True   False\n",
            "is              be              AUX    VBZ    ccomp        xx     True   True\n",
            "található       található       ADJ    JJ     amod         xxxx   True   False\n",
            ",               ,               PUNCT  ,      punct        ,      False  False\n",
            "de              de              X      FW     advmod       xx     True   False\n",
            "mielőtt         mielőtt         X      FW     nmod         xxxx   True   False\n",
            "elgondolkoznál  elgondolkoznál  PROPN  NNP    amod         xxxx   True   False\n",
            "azon            azon            PROPN  NNP    attr         xxxx   True   False\n",
            ",               ,               PUNCT  ,      punct        ,      False  False\n",
            "hogy            hogy            NOUN   NN     compound     xxxx   True   False\n",
            "otthagyod       otthagyod       NOUN   NN     ROOT         xxxx   True   False\n",
            "az              az              PROPN  NNP    nsubj        xx     True   False\n",
            "egyetemet       egyetemet       ADV    RB     relcl        xxxx   True   False\n",
            "emiatt          emiatt          PROPN  NNP    conj         xxxx   True   False\n",
            ",               ,               PUNCT  ,      punct        ,      False  False\n",
            "ne              ne              PROPN  NNP    compound     xx     True   False\n",
            "tedd            tedd            PROPN  NNP    conj         xxxx   True   False\n",
            ",               ,               PUNCT  ,      punct        ,      False  False\n",
            "mert            mert            PROPN  NNP    conj         xxxx   True   False\n",
            "a               a               DET    DT     det          x      True   True\n",
            "legtöbb         legtöbb         NOUN   NN     compound     xxxx   True   False\n",
            "test            test            NOUN   NN     compound     xxxx   True   False\n",
            "csak            csak            PROPN  NNP    compound     xxxx   True   False\n",
            "körülbelül      körülbelül      NOUN   NNS    compound     xxxx   True   False\n",
            "0,2             0,2             PROPN  NNP    compound     d,d    False  False\n",
            "miligrammot     miligrammot     NOUN   NN     compound     xxxx   True   False\n",
            "tartalmaz       tartalmaz       NOUN   NN     dobj         xxxx   True   False\n",
            ".               .               PUNCT  .      punct        .      False  False\n",
            "---------------------------------------------------------------------------\n",
            "\n",
            "HuSpaCy\n",
            "\n",
            "A               a               DET    DET    det          X      True   True\n",
            "vérünkben       vér             NOUN   NOUN   obl          xxxx   True   False\n",
            "arany           arany           NOUN   NOUN   nsubj        xxxx   True   False\n",
            "is              is              CCONJ  CCONJ  cc           xx     True   True\n",
            "található       található       ADJ    ADJ    ROOT         xxxx   True   False\n",
            ",               ,               PUNCT  PUNCT  punct        ,      False  False\n",
            "de              de              CCONJ  CCONJ  cc           xx     True   True\n",
            "mielőtt         mielőtt         SCONJ  SCONJ  mark         xxxx   True   False\n",
            "elgondolkoznál  elgondolkoz     VERB   VERB   conj         xxxx   True   False\n",
            "azon            az              PRON   PRON   obl          xxxx   True   True\n",
            ",               ,               PUNCT  PUNCT  punct        ,      False  False\n",
            "hogy            hogy            SCONJ  SCONJ  mark         xxxx   True   True\n",
            "otthagyod       otthagy         VERB   VERB   ccomp:obl    xxxx   True   False\n",
            "az              az              DET    DET    det          xx     True   True\n",
            "egyetemet       egyetem         NOUN   NOUN   obj          xxxx   True   False\n",
            "emiatt          emiatt          ADV    ADV    advmod:mode  xxxx   True   False\n",
            ",               ,               PUNCT  PUNCT  punct        ,      False  False\n",
            "ne              ne              ADV    ADV    nsubj        xx     True   True\n",
            "tedd            tesz            VERB   VERB   conj         xxxx   True   False\n",
            ",               ,               PUNCT  PUNCT  punct        ,      False  False\n",
            "mert            mert            SCONJ  SCONJ  mark         xxxx   True   True\n",
            "a               a               DET    DET    det          x      True   True\n",
            "legtöbb         legtöbb         NUM    NUM    amod:att     xxxx   True   False\n",
            "test            test            NOUN   NOUN   nsubj        xxxx   True   False\n",
            "csak            csak            ADV    ADV    advmod:mode  xxxx   True   True\n",
            "körülbelül      körülbelül      ADV    ADV    advmod:mode  xxxx   True   False\n",
            "0,2             0,2             NUM    NUM    nummod       d,d    False  False\n",
            "miligrammot     miligramm       NOUN   NOUN   obj          xxxx   True   False\n",
            "tartalmaz       tartalmaz       VERB   VERB   ccomp:obj    xxxx   True   False\n",
            ".               .               PUNCT  PUNCT  punct        .      False  False\n",
            "---------------------------------------------------------------------------\n",
            "\n",
            "Multilingual spaCy\n",
            "\n",
            "A                                                          X      True   False\n",
            "vérünkben                                                  xxxx   True   False\n",
            "arany                                                      xxxx   True   False\n",
            "is                                                         xx     True   False\n",
            "található                                                  xxxx   True   False\n",
            ",                                                          ,      False  False\n",
            "de                                                         xx     True   False\n",
            "mielőtt                                                    xxxx   True   False\n",
            "elgondolkoznál                                             xxxx   True   False\n",
            "azon                                                       xxxx   True   False\n",
            ",                                                          ,      False  False\n",
            "hogy                                                       xxxx   True   False\n",
            "otthagyod                                                  xxxx   True   False\n",
            "az                                                         xx     True   False\n",
            "egyetemet                                                  xxxx   True   False\n",
            "emiatt                                                     xxxx   True   False\n",
            ",                                                          ,      False  False\n",
            "ne                                                         xx     True   False\n",
            "tedd                                                       xxxx   True   False\n",
            ",                                                          ,      False  False\n",
            "mert                                                       xxxx   True   False\n",
            "a                                                          x      True   False\n",
            "legtöbb                                                    xxxx   True   False\n",
            "test                                                       xxxx   True   False\n",
            "csak                                                       xxxx   True   False\n",
            "körülbelül                                                 xxxx   True   False\n",
            "0,2                                                        d,d    False  False\n",
            "miligrammot                                                xxxx   True   False\n",
            "tartalmaz                                                  xxxx   True   False\n",
            ".                                                          .      False  False\n"
          ]
        }
      ]
    },
    {
      "cell_type": "markdown",
      "source": [
        "# Gyakorló feladat\n",
        "\n",
        "1. Olvassuk be az alábbi fájlt pandassal:\n",
        "http://web.uni-corvinus.hu/~fszabina/data/first_game.csv\n",
        "\n",
        "2. Irassuk ki az 5. mondatot (4-es index)\n",
        "\n",
        "3. Használjuk a HuSpaCy hu_core_news_lg modelljét és kérjük le az 5. mondat elemzését. Könnyebb és egyszerűbb kiíratás érdekében, ahogy említve is lett létezik egy nagyon kényelmes tool, ezt javaslom használjatok is. ;)\n",
        "\n",
        "4. Irassuk ki ennek a mondatnak az első szavának a tokenjét, lemmáját, szófaji címkéjét és a morfológiai leírását (tehát azt a 4db oszlopot, amit eddig ismerünk)."
      ],
      "metadata": {
        "id": "SCDibqI92MkX"
      }
    },
    {
      "cell_type": "code",
      "source": [
        "import pandas as pd"
      ],
      "metadata": {
        "id": "Os4NYZh4HkQY"
      },
      "execution_count": null,
      "outputs": []
    },
    {
      "cell_type": "code",
      "source": [
        "filepath = \"http://web.uni-corvinus.hu/~fszabina/data/first_game.csv\"\n",
        "data = pd.read_csv(filepath, sep=\";\")\n",
        "data.head()"
      ],
      "metadata": {
        "id": "nrgCI8fMHn_9",
        "colab": {
          "base_uri": "https://localhost:8080/",
          "height": 206
        },
        "outputId": "791c6cfa-0575-430e-ff99-ec4378893984"
      },
      "execution_count": null,
      "outputs": [
        {
          "output_type": "execute_result",
          "data": {
            "text/plain": [
              "                                                Sent  Bool\n",
              "0  Termelésük növelésére szólította fel tegnap az...     1\n",
              "1  Az arab ország exportjának leállítása miatt na...     0\n",
              "2  Egyes hazai szakértők attól tartanak, hogy az ...     0\n",
              "3  Az iraki vezetés azért függesztette fel a nyer...     1\n",
              "4             Ötöst fogok szerezni ebből a tárgyból.     1"
            ],
            "text/html": [
              "\n",
              "  <div id=\"df-2f4c63f9-6fc0-4749-97a7-43a50de0ce8d\" class=\"colab-df-container\">\n",
              "    <div>\n",
              "<style scoped>\n",
              "    .dataframe tbody tr th:only-of-type {\n",
              "        vertical-align: middle;\n",
              "    }\n",
              "\n",
              "    .dataframe tbody tr th {\n",
              "        vertical-align: top;\n",
              "    }\n",
              "\n",
              "    .dataframe thead th {\n",
              "        text-align: right;\n",
              "    }\n",
              "</style>\n",
              "<table border=\"1\" class=\"dataframe\">\n",
              "  <thead>\n",
              "    <tr style=\"text-align: right;\">\n",
              "      <th></th>\n",
              "      <th>Sent</th>\n",
              "      <th>Bool</th>\n",
              "    </tr>\n",
              "  </thead>\n",
              "  <tbody>\n",
              "    <tr>\n",
              "      <th>0</th>\n",
              "      <td>Termelésük növelésére szólította fel tegnap az...</td>\n",
              "      <td>1</td>\n",
              "    </tr>\n",
              "    <tr>\n",
              "      <th>1</th>\n",
              "      <td>Az arab ország exportjának leállítása miatt na...</td>\n",
              "      <td>0</td>\n",
              "    </tr>\n",
              "    <tr>\n",
              "      <th>2</th>\n",
              "      <td>Egyes hazai szakértők attól tartanak, hogy az ...</td>\n",
              "      <td>0</td>\n",
              "    </tr>\n",
              "    <tr>\n",
              "      <th>3</th>\n",
              "      <td>Az iraki vezetés azért függesztette fel a nyer...</td>\n",
              "      <td>1</td>\n",
              "    </tr>\n",
              "    <tr>\n",
              "      <th>4</th>\n",
              "      <td>Ötöst fogok szerezni ebből a tárgyból.</td>\n",
              "      <td>1</td>\n",
              "    </tr>\n",
              "  </tbody>\n",
              "</table>\n",
              "</div>\n",
              "    <div class=\"colab-df-buttons\">\n",
              "\n",
              "  <div class=\"colab-df-container\">\n",
              "    <button class=\"colab-df-convert\" onclick=\"convertToInteractive('df-2f4c63f9-6fc0-4749-97a7-43a50de0ce8d')\"\n",
              "            title=\"Convert this dataframe to an interactive table.\"\n",
              "            style=\"display:none;\">\n",
              "\n",
              "  <svg xmlns=\"http://www.w3.org/2000/svg\" height=\"24px\" viewBox=\"0 -960 960 960\">\n",
              "    <path d=\"M120-120v-720h720v720H120Zm60-500h600v-160H180v160Zm220 220h160v-160H400v160Zm0 220h160v-160H400v160ZM180-400h160v-160H180v160Zm440 0h160v-160H620v160ZM180-180h160v-160H180v160Zm440 0h160v-160H620v160Z\"/>\n",
              "  </svg>\n",
              "    </button>\n",
              "\n",
              "  <style>\n",
              "    .colab-df-container {\n",
              "      display:flex;\n",
              "      gap: 12px;\n",
              "    }\n",
              "\n",
              "    .colab-df-convert {\n",
              "      background-color: #E8F0FE;\n",
              "      border: none;\n",
              "      border-radius: 50%;\n",
              "      cursor: pointer;\n",
              "      display: none;\n",
              "      fill: #1967D2;\n",
              "      height: 32px;\n",
              "      padding: 0 0 0 0;\n",
              "      width: 32px;\n",
              "    }\n",
              "\n",
              "    .colab-df-convert:hover {\n",
              "      background-color: #E2EBFA;\n",
              "      box-shadow: 0px 1px 2px rgba(60, 64, 67, 0.3), 0px 1px 3px 1px rgba(60, 64, 67, 0.15);\n",
              "      fill: #174EA6;\n",
              "    }\n",
              "\n",
              "    .colab-df-buttons div {\n",
              "      margin-bottom: 4px;\n",
              "    }\n",
              "\n",
              "    [theme=dark] .colab-df-convert {\n",
              "      background-color: #3B4455;\n",
              "      fill: #D2E3FC;\n",
              "    }\n",
              "\n",
              "    [theme=dark] .colab-df-convert:hover {\n",
              "      background-color: #434B5C;\n",
              "      box-shadow: 0px 1px 3px 1px rgba(0, 0, 0, 0.15);\n",
              "      filter: drop-shadow(0px 1px 2px rgba(0, 0, 0, 0.3));\n",
              "      fill: #FFFFFF;\n",
              "    }\n",
              "  </style>\n",
              "\n",
              "    <script>\n",
              "      const buttonEl =\n",
              "        document.querySelector('#df-2f4c63f9-6fc0-4749-97a7-43a50de0ce8d button.colab-df-convert');\n",
              "      buttonEl.style.display =\n",
              "        google.colab.kernel.accessAllowed ? 'block' : 'none';\n",
              "\n",
              "      async function convertToInteractive(key) {\n",
              "        const element = document.querySelector('#df-2f4c63f9-6fc0-4749-97a7-43a50de0ce8d');\n",
              "        const dataTable =\n",
              "          await google.colab.kernel.invokeFunction('convertToInteractive',\n",
              "                                                    [key], {});\n",
              "        if (!dataTable) return;\n",
              "\n",
              "        const docLinkHtml = 'Like what you see? Visit the ' +\n",
              "          '<a target=\"_blank\" href=https://colab.research.google.com/notebooks/data_table.ipynb>data table notebook</a>'\n",
              "          + ' to learn more about interactive tables.';\n",
              "        element.innerHTML = '';\n",
              "        dataTable['output_type'] = 'display_data';\n",
              "        await google.colab.output.renderOutput(dataTable, element);\n",
              "        const docLink = document.createElement('div');\n",
              "        docLink.innerHTML = docLinkHtml;\n",
              "        element.appendChild(docLink);\n",
              "      }\n",
              "    </script>\n",
              "  </div>\n",
              "\n",
              "\n",
              "<div id=\"df-c96c2b6c-e2ad-450d-88ce-29db8a87ebc7\">\n",
              "  <button class=\"colab-df-quickchart\" onclick=\"quickchart('df-c96c2b6c-e2ad-450d-88ce-29db8a87ebc7')\"\n",
              "            title=\"Suggest charts\"\n",
              "            style=\"display:none;\">\n",
              "\n",
              "<svg xmlns=\"http://www.w3.org/2000/svg\" height=\"24px\"viewBox=\"0 0 24 24\"\n",
              "     width=\"24px\">\n",
              "    <g>\n",
              "        <path d=\"M19 3H5c-1.1 0-2 .9-2 2v14c0 1.1.9 2 2 2h14c1.1 0 2-.9 2-2V5c0-1.1-.9-2-2-2zM9 17H7v-7h2v7zm4 0h-2V7h2v10zm4 0h-2v-4h2v4z\"/>\n",
              "    </g>\n",
              "</svg>\n",
              "  </button>\n",
              "\n",
              "<style>\n",
              "  .colab-df-quickchart {\n",
              "      --bg-color: #E8F0FE;\n",
              "      --fill-color: #1967D2;\n",
              "      --hover-bg-color: #E2EBFA;\n",
              "      --hover-fill-color: #174EA6;\n",
              "      --disabled-fill-color: #AAA;\n",
              "      --disabled-bg-color: #DDD;\n",
              "  }\n",
              "\n",
              "  [theme=dark] .colab-df-quickchart {\n",
              "      --bg-color: #3B4455;\n",
              "      --fill-color: #D2E3FC;\n",
              "      --hover-bg-color: #434B5C;\n",
              "      --hover-fill-color: #FFFFFF;\n",
              "      --disabled-bg-color: #3B4455;\n",
              "      --disabled-fill-color: #666;\n",
              "  }\n",
              "\n",
              "  .colab-df-quickchart {\n",
              "    background-color: var(--bg-color);\n",
              "    border: none;\n",
              "    border-radius: 50%;\n",
              "    cursor: pointer;\n",
              "    display: none;\n",
              "    fill: var(--fill-color);\n",
              "    height: 32px;\n",
              "    padding: 0;\n",
              "    width: 32px;\n",
              "  }\n",
              "\n",
              "  .colab-df-quickchart:hover {\n",
              "    background-color: var(--hover-bg-color);\n",
              "    box-shadow: 0 1px 2px rgba(60, 64, 67, 0.3), 0 1px 3px 1px rgba(60, 64, 67, 0.15);\n",
              "    fill: var(--button-hover-fill-color);\n",
              "  }\n",
              "\n",
              "  .colab-df-quickchart-complete:disabled,\n",
              "  .colab-df-quickchart-complete:disabled:hover {\n",
              "    background-color: var(--disabled-bg-color);\n",
              "    fill: var(--disabled-fill-color);\n",
              "    box-shadow: none;\n",
              "  }\n",
              "\n",
              "  .colab-df-spinner {\n",
              "    border: 2px solid var(--fill-color);\n",
              "    border-color: transparent;\n",
              "    border-bottom-color: var(--fill-color);\n",
              "    animation:\n",
              "      spin 1s steps(1) infinite;\n",
              "  }\n",
              "\n",
              "  @keyframes spin {\n",
              "    0% {\n",
              "      border-color: transparent;\n",
              "      border-bottom-color: var(--fill-color);\n",
              "      border-left-color: var(--fill-color);\n",
              "    }\n",
              "    20% {\n",
              "      border-color: transparent;\n",
              "      border-left-color: var(--fill-color);\n",
              "      border-top-color: var(--fill-color);\n",
              "    }\n",
              "    30% {\n",
              "      border-color: transparent;\n",
              "      border-left-color: var(--fill-color);\n",
              "      border-top-color: var(--fill-color);\n",
              "      border-right-color: var(--fill-color);\n",
              "    }\n",
              "    40% {\n",
              "      border-color: transparent;\n",
              "      border-right-color: var(--fill-color);\n",
              "      border-top-color: var(--fill-color);\n",
              "    }\n",
              "    60% {\n",
              "      border-color: transparent;\n",
              "      border-right-color: var(--fill-color);\n",
              "    }\n",
              "    80% {\n",
              "      border-color: transparent;\n",
              "      border-right-color: var(--fill-color);\n",
              "      border-bottom-color: var(--fill-color);\n",
              "    }\n",
              "    90% {\n",
              "      border-color: transparent;\n",
              "      border-bottom-color: var(--fill-color);\n",
              "    }\n",
              "  }\n",
              "</style>\n",
              "\n",
              "  <script>\n",
              "    async function quickchart(key) {\n",
              "      const quickchartButtonEl =\n",
              "        document.querySelector('#' + key + ' button');\n",
              "      quickchartButtonEl.disabled = true;  // To prevent multiple clicks.\n",
              "      quickchartButtonEl.classList.add('colab-df-spinner');\n",
              "      try {\n",
              "        const charts = await google.colab.kernel.invokeFunction(\n",
              "            'suggestCharts', [key], {});\n",
              "      } catch (error) {\n",
              "        console.error('Error during call to suggestCharts:', error);\n",
              "      }\n",
              "      quickchartButtonEl.classList.remove('colab-df-spinner');\n",
              "      quickchartButtonEl.classList.add('colab-df-quickchart-complete');\n",
              "    }\n",
              "    (() => {\n",
              "      let quickchartButtonEl =\n",
              "        document.querySelector('#df-c96c2b6c-e2ad-450d-88ce-29db8a87ebc7 button');\n",
              "      quickchartButtonEl.style.display =\n",
              "        google.colab.kernel.accessAllowed ? 'block' : 'none';\n",
              "    })();\n",
              "  </script>\n",
              "</div>\n",
              "\n",
              "    </div>\n",
              "  </div>\n"
            ],
            "application/vnd.google.colaboratory.intrinsic+json": {
              "type": "dataframe",
              "variable_name": "data",
              "summary": "{\n  \"name\": \"data\",\n  \"rows\": 6,\n  \"fields\": [\n    {\n      \"column\": \"Sent\",\n      \"properties\": {\n        \"dtype\": \"string\",\n        \"num_unique_values\": 6,\n        \"samples\": [\n          \"Termel\\u00e9s\\u00fck n\\u00f6vel\\u00e9s\\u00e9re sz\\u00f3l\\u00edtotta fel tegnap az olajat export\\u00e1l\\u00f3 orsz\\u00e1gokat William Ramsey, aki az Egyes\\u00fclt \\u00c1llamokat k\\u00e9pviseli a Nemzetk\\u00f6zi Energia\\u00fcgyn\\u00f6ks\\u00e9gben, miut\\u00e1n Irak a h\\u00e9t elej\\u00e9n bejelentette: nem \\u00faj\\u00edtja meg olajsz\\u00e1ll\\u00edt\\u00e1si szerz\\u0151d\\u00e9seit.\",\n          \"Az arab orsz\\u00e1g exportj\\u00e1nak le\\u00e1ll\\u00edt\\u00e1sa miatt napi 2,3 milli\\u00f3 hord\\u00f3val cs\\u00f6kkenhet a k\\u00edn\\u00e1lat a nyersolaj vil\\u00e1gpiac\\u00e1n.\",\n          \"Leghasznosabb weboldal, ami csak l\\u00e9tezik ever!!!44! https://theuselessweb.com/\"\n        ],\n        \"semantic_type\": \"\",\n        \"description\": \"\"\n      }\n    },\n    {\n      \"column\": \"Bool\",\n      \"properties\": {\n        \"dtype\": \"number\",\n        \"std\": 0,\n        \"min\": 0,\n        \"max\": 1,\n        \"num_unique_values\": 2,\n        \"samples\": [\n          0,\n          1\n        ],\n        \"semantic_type\": \"\",\n        \"description\": \"\"\n      }\n    }\n  ]\n}"
            }
          },
          "metadata": {},
          "execution_count": 114
        }
      ]
    },
    {
      "cell_type": "code",
      "source": [
        "nlp_conllu = init_parser(\"hu_core_news_lg\",\n",
        "                  \"spacy\",\n",
        "                  include_headers=True)\n",
        "# Adott szöveget lefuttatjuk\n",
        "doc = nlp_conllu(data['Sent'][4])\n",
        "\n",
        "# A `Doc`-on egy attribútumként megkapjuk a `conllu` formát\n",
        "conll = doc._.conll_str\n",
        "print(conll)"
      ],
      "metadata": {
        "colab": {
          "base_uri": "https://localhost:8080/"
        },
        "id": "y2Rp8z9m0LcI",
        "outputId": "a39d8b8a-a07f-4d1a-a24d-65af4e5da3ed"
      },
      "execution_count": null,
      "outputs": [
        {
          "output_type": "stream",
          "name": "stdout",
          "text": [
            "# sent_id = 1\n",
            "# text = Ötöst fogok szerezni ebből a tárgyból.\n",
            "1\tÖtöst\tötös\tNOUN\tNOUN\tCase=Acc|Number=Sing\t3\tobj\t_\t_\n",
            "2\tfogok\tfog\tVERB\tAUX\tDefinite=Ind|Mood=Ind|Number=Sing|Person=1|Tense=Pres|VerbForm=Fin|Voice=Act\t0\tROOT\t_\t_\n",
            "3\tszerezni\tszerez\tVERB\tVERB\tVerbForm=Inf|Voice=Act\t2\txcomp\t_\t_\n",
            "4\tebből\tez\tDET\tDET\tCase=Ela|Number=Sing|Person=3|PronType=Dem\t6\tdet\t_\t_\n",
            "5\ta\ta\tDET\tDET\tDefinite=Def|PronType=Art\t6\tdet\t_\t_\n",
            "6\ttárgyból\ttárgy\tNOUN\tNOUN\tCase=Ela|Number=Sing\t3\tobl\t_\tSpaceAfter=No\n",
            "7\t.\t.\tPUNCT\tPUNCT\t_\t2\tpunct\t_\tSpaceAfter=No\n",
            "\n"
          ]
        }
      ]
    },
    {
      "cell_type": "code",
      "source": [
        "data['Sent'][4]"
      ],
      "metadata": {
        "colab": {
          "base_uri": "https://localhost:8080/",
          "height": 36
        },
        "id": "gLxXQuHezNfq",
        "outputId": "04166d2b-9940-446a-be94-e753d9eaadbc"
      },
      "execution_count": null,
      "outputs": [
        {
          "output_type": "execute_result",
          "data": {
            "text/plain": [
              "'Ötöst fogok szerezni ebből a tárgyból.'"
            ],
            "application/vnd.google.colaboratory.intrinsic+json": {
              "type": "string"
            }
          },
          "metadata": {},
          "execution_count": 116
        }
      ]
    }
  ]
}