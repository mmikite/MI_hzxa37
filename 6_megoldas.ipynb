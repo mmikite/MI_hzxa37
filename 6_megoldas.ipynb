{
  "cells": [
    {
      "cell_type": "markdown",
      "metadata": {
        "id": "view-in-github",
        "colab_type": "text"
      },
      "source": [
        "<a href=\"https://colab.research.google.com/github/mmikite/MI_hzxa37/blob/main/6_megoldas.ipynb\" target=\"_parent\"><img src=\"https://colab.research.google.com/assets/colab-badge.svg\" alt=\"Open In Colab\"/></a>"
      ]
    },
    {
      "cell_type": "markdown",
      "id": "dd9b7fbf",
      "metadata": {
        "papermill": {
          "duration": 0.007326,
          "end_time": "2023-06-06T09:11:28.279963",
          "exception": false,
          "start_time": "2023-06-06T09:11:28.272637",
          "status": "completed"
        },
        "tags": [],
        "id": "dd9b7fbf"
      },
      "source": [
        "# Neurális hálózatok - Feladatok\n",
        "\n",
        "Pajzsmirigybetegség osztályozása\n",
        "\n",
        "Adatok\n",
        "\n",
        "Pajzsmirigybetegség (ann-thyroid) adathalmaz az UCI gépi tanulási tárából (*A Thyroid database suited for training ANNs*), amely alkalmas neurális hálózatok kipróbálására.\n",
        "3772 tanulási adatot tartalmaz. 15 kategorikus és 6 valós attribútummal rendelkezik.\n",
        "A probléma annak megállapítása, hogy a klinikára beutalt beteg pajzsmirigy alulműködésű-e. Két osztályt képezünk: normális/beteg; ezt a 21. oszlop tartalmazza."
      ]
    },
    {
      "cell_type": "markdown",
      "id": "48c8796c",
      "metadata": {
        "papermill": {
          "duration": 0.006396,
          "end_time": "2023-06-06T09:11:28.293333",
          "exception": false,
          "start_time": "2023-06-06T09:11:28.286937",
          "status": "completed"
        },
        "tags": [],
        "id": "48c8796c"
      },
      "source": [
        "Beolvassuk a szükséges könyvtárakat."
      ]
    },
    {
      "cell_type": "code",
      "execution_count": null,
      "id": "22818989",
      "metadata": {
        "_cell_guid": "b1076dfc-b9ad-4769-8c92-a6c4dae69d19",
        "_uuid": "8f2839f25d086af736a60e9eeb907d3b93b6e0e5",
        "execution": {
          "iopub.execute_input": "2023-06-06T09:11:28.308916Z",
          "iopub.status.busy": "2023-06-06T09:11:28.308105Z",
          "iopub.status.idle": "2023-06-06T09:11:30.176088Z",
          "shell.execute_reply": "2023-06-06T09:11:30.174753Z"
        },
        "papermill": {
          "duration": 1.878638,
          "end_time": "2023-06-06T09:11:30.178521",
          "exception": false,
          "start_time": "2023-06-06T09:11:28.299883",
          "status": "completed"
        },
        "tags": [],
        "id": "22818989"
      },
      "outputs": [],
      "source": [
        "import numpy as np # linear algebra\n",
        "import pandas as pd # data processing, CSV file I/O (e.g. pd.read_csv)\n",
        "from sklearn.metrics import confusion_matrix\n",
        "\n",
        "from sklearn.neighbors import KNeighborsClassifier\n",
        "from sklearn.neural_network import MLPClassifier\n",
        "\n",
        "# for splitting of data\n",
        "from sklearn.model_selection import train_test_split\n",
        "\n",
        "# to get optimal hyperparameters' values\n",
        "from sklearn.model_selection import GridSearchCV\n",
        "\n",
        "# Input data files are available in the read-only \"../input/\" directory\n",
        "# For example, running this (by clicking run or pressing Shift+Enter) will list all files under the input directory\n",
        "\n"
      ]
    },
    {
      "cell_type": "markdown",
      "id": "abed82be",
      "metadata": {
        "papermill": {
          "duration": 0.006601,
          "end_time": "2023-06-06T09:11:30.193435",
          "exception": false,
          "start_time": "2023-06-06T09:11:30.186834",
          "status": "completed"
        },
        "tags": [],
        "id": "abed82be"
      },
      "source": [
        "Beolvassuk a adatokat\n"
      ]
    },
    {
      "cell_type": "code",
      "execution_count": null,
      "id": "117042c3",
      "metadata": {
        "execution": {
          "iopub.execute_input": "2023-06-06T09:11:30.209231Z",
          "iopub.status.busy": "2023-06-06T09:11:30.208823Z",
          "iopub.status.idle": "2023-06-06T09:11:30.301271Z",
          "shell.execute_reply": "2023-06-06T09:11:30.300023Z"
        },
        "papermill": {
          "duration": 0.103192,
          "end_time": "2023-06-06T09:11:30.303596",
          "exception": false,
          "start_time": "2023-06-06T09:11:30.200404",
          "status": "completed"
        },
        "tags": [],
        "id": "117042c3",
        "outputId": "e4f6470d-7165-462d-a198-44cc57b0cd48"
      },
      "outputs": [
        {
          "data": {
            "text/html": [
              "<div>\n",
              "<style scoped>\n",
              "    .dataframe tbody tr th:only-of-type {\n",
              "        vertical-align: middle;\n",
              "    }\n",
              "\n",
              "    .dataframe tbody tr th {\n",
              "        vertical-align: top;\n",
              "    }\n",
              "\n",
              "    .dataframe thead th {\n",
              "        text-align: right;\n",
              "    }\n",
              "</style>\n",
              "<table border=\"1\" class=\"dataframe\">\n",
              "  <thead>\n",
              "    <tr style=\"text-align: right;\">\n",
              "      <th></th>\n",
              "      <th>0</th>\n",
              "      <th>1</th>\n",
              "      <th>2</th>\n",
              "      <th>3</th>\n",
              "      <th>4</th>\n",
              "      <th>5</th>\n",
              "      <th>6</th>\n",
              "      <th>7</th>\n",
              "      <th>8</th>\n",
              "      <th>9</th>\n",
              "      <th>...</th>\n",
              "      <th>12</th>\n",
              "      <th>13</th>\n",
              "      <th>14</th>\n",
              "      <th>15</th>\n",
              "      <th>16</th>\n",
              "      <th>17</th>\n",
              "      <th>18</th>\n",
              "      <th>19</th>\n",
              "      <th>20</th>\n",
              "      <th>21</th>\n",
              "    </tr>\n",
              "  </thead>\n",
              "  <tbody>\n",
              "    <tr>\n",
              "      <th>0</th>\n",
              "      <td>0.750000</td>\n",
              "      <td>1</td>\n",
              "      <td>0</td>\n",
              "      <td>1</td>\n",
              "      <td>1</td>\n",
              "      <td>1</td>\n",
              "      <td>1</td>\n",
              "      <td>1</td>\n",
              "      <td>0</td>\n",
              "      <td>1</td>\n",
              "      <td>...</td>\n",
              "      <td>1</td>\n",
              "      <td>1</td>\n",
              "      <td>1</td>\n",
              "      <td>1</td>\n",
              "      <td>0.001132</td>\n",
              "      <td>0.080780</td>\n",
              "      <td>0.197324</td>\n",
              "      <td>0.300926</td>\n",
              "      <td>0.225000</td>\n",
              "      <td>1</td>\n",
              "    </tr>\n",
              "    <tr>\n",
              "      <th>1</th>\n",
              "      <td>0.239583</td>\n",
              "      <td>1</td>\n",
              "      <td>1</td>\n",
              "      <td>1</td>\n",
              "      <td>1</td>\n",
              "      <td>1</td>\n",
              "      <td>1</td>\n",
              "      <td>1</td>\n",
              "      <td>1</td>\n",
              "      <td>1</td>\n",
              "      <td>...</td>\n",
              "      <td>1</td>\n",
              "      <td>1</td>\n",
              "      <td>1</td>\n",
              "      <td>1</td>\n",
              "      <td>0.000472</td>\n",
              "      <td>0.164345</td>\n",
              "      <td>0.235786</td>\n",
              "      <td>0.537037</td>\n",
              "      <td>0.165625</td>\n",
              "      <td>1</td>\n",
              "    </tr>\n",
              "    <tr>\n",
              "      <th>2</th>\n",
              "      <td>0.479167</td>\n",
              "      <td>1</td>\n",
              "      <td>1</td>\n",
              "      <td>1</td>\n",
              "      <td>1</td>\n",
              "      <td>1</td>\n",
              "      <td>1</td>\n",
              "      <td>1</td>\n",
              "      <td>1</td>\n",
              "      <td>1</td>\n",
              "      <td>...</td>\n",
              "      <td>1</td>\n",
              "      <td>1</td>\n",
              "      <td>1</td>\n",
              "      <td>1</td>\n",
              "      <td>0.003585</td>\n",
              "      <td>0.130919</td>\n",
              "      <td>0.167224</td>\n",
              "      <td>0.527778</td>\n",
              "      <td>0.118750</td>\n",
              "      <td>1</td>\n",
              "    </tr>\n",
              "    <tr>\n",
              "      <th>3</th>\n",
              "      <td>0.656250</td>\n",
              "      <td>0</td>\n",
              "      <td>1</td>\n",
              "      <td>1</td>\n",
              "      <td>1</td>\n",
              "      <td>1</td>\n",
              "      <td>1</td>\n",
              "      <td>1</td>\n",
              "      <td>1</td>\n",
              "      <td>1</td>\n",
              "      <td>...</td>\n",
              "      <td>1</td>\n",
              "      <td>1</td>\n",
              "      <td>1</td>\n",
              "      <td>1</td>\n",
              "      <td>0.001698</td>\n",
              "      <td>0.091922</td>\n",
              "      <td>0.125418</td>\n",
              "      <td>0.337963</td>\n",
              "      <td>0.129688</td>\n",
              "      <td>1</td>\n",
              "    </tr>\n",
              "    <tr>\n",
              "      <th>4</th>\n",
              "      <td>0.229167</td>\n",
              "      <td>1</td>\n",
              "      <td>1</td>\n",
              "      <td>1</td>\n",
              "      <td>1</td>\n",
              "      <td>1</td>\n",
              "      <td>1</td>\n",
              "      <td>1</td>\n",
              "      <td>1</td>\n",
              "      <td>1</td>\n",
              "      <td>...</td>\n",
              "      <td>1</td>\n",
              "      <td>1</td>\n",
              "      <td>1</td>\n",
              "      <td>1</td>\n",
              "      <td>0.000472</td>\n",
              "      <td>0.142061</td>\n",
              "      <td>0.229097</td>\n",
              "      <td>0.337963</td>\n",
              "      <td>0.235938</td>\n",
              "      <td>1</td>\n",
              "    </tr>\n",
              "    <tr>\n",
              "      <th>...</th>\n",
              "      <td>...</td>\n",
              "      <td>...</td>\n",
              "      <td>...</td>\n",
              "      <td>...</td>\n",
              "      <td>...</td>\n",
              "      <td>...</td>\n",
              "      <td>...</td>\n",
              "      <td>...</td>\n",
              "      <td>...</td>\n",
              "      <td>...</td>\n",
              "      <td>...</td>\n",
              "      <td>...</td>\n",
              "      <td>...</td>\n",
              "      <td>...</td>\n",
              "      <td>...</td>\n",
              "      <td>...</td>\n",
              "      <td>...</td>\n",
              "      <td>...</td>\n",
              "      <td>...</td>\n",
              "      <td>...</td>\n",
              "      <td>...</td>\n",
              "    </tr>\n",
              "    <tr>\n",
              "      <th>6995</th>\n",
              "      <td>0.875000</td>\n",
              "      <td>1</td>\n",
              "      <td>1</td>\n",
              "      <td>1</td>\n",
              "      <td>1</td>\n",
              "      <td>1</td>\n",
              "      <td>1</td>\n",
              "      <td>1</td>\n",
              "      <td>1</td>\n",
              "      <td>1</td>\n",
              "      <td>...</td>\n",
              "      <td>1</td>\n",
              "      <td>1</td>\n",
              "      <td>1</td>\n",
              "      <td>1</td>\n",
              "      <td>0.060377</td>\n",
              "      <td>0.050696</td>\n",
              "      <td>0.088629</td>\n",
              "      <td>0.333333</td>\n",
              "      <td>0.093750</td>\n",
              "      <td>-1</td>\n",
              "    </tr>\n",
              "    <tr>\n",
              "      <th>6996</th>\n",
              "      <td>0.218750</td>\n",
              "      <td>0</td>\n",
              "      <td>1</td>\n",
              "      <td>1</td>\n",
              "      <td>1</td>\n",
              "      <td>1</td>\n",
              "      <td>1</td>\n",
              "      <td>1</td>\n",
              "      <td>1</td>\n",
              "      <td>1</td>\n",
              "      <td>...</td>\n",
              "      <td>1</td>\n",
              "      <td>1</td>\n",
              "      <td>1</td>\n",
              "      <td>1</td>\n",
              "      <td>0.004340</td>\n",
              "      <td>0.097493</td>\n",
              "      <td>0.239130</td>\n",
              "      <td>0.347222</td>\n",
              "      <td>0.243750</td>\n",
              "      <td>1</td>\n",
              "    </tr>\n",
              "    <tr>\n",
              "      <th>6997</th>\n",
              "      <td>0.229167</td>\n",
              "      <td>1</td>\n",
              "      <td>1</td>\n",
              "      <td>1</td>\n",
              "      <td>1</td>\n",
              "      <td>1</td>\n",
              "      <td>1</td>\n",
              "      <td>1</td>\n",
              "      <td>1</td>\n",
              "      <td>1</td>\n",
              "      <td>...</td>\n",
              "      <td>1</td>\n",
              "      <td>1</td>\n",
              "      <td>1</td>\n",
              "      <td>1</td>\n",
              "      <td>0.005094</td>\n",
              "      <td>0.109192</td>\n",
              "      <td>0.103679</td>\n",
              "      <td>0.291667</td>\n",
              "      <td>0.121875</td>\n",
              "      <td>1</td>\n",
              "    </tr>\n",
              "    <tr>\n",
              "      <th>6998</th>\n",
              "      <td>0.531250</td>\n",
              "      <td>0</td>\n",
              "      <td>1</td>\n",
              "      <td>1</td>\n",
              "      <td>1</td>\n",
              "      <td>1</td>\n",
              "      <td>1</td>\n",
              "      <td>1</td>\n",
              "      <td>1</td>\n",
              "      <td>1</td>\n",
              "      <td>...</td>\n",
              "      <td>1</td>\n",
              "      <td>1</td>\n",
              "      <td>1</td>\n",
              "      <td>0</td>\n",
              "      <td>0.002830</td>\n",
              "      <td>0.109192</td>\n",
              "      <td>0.160535</td>\n",
              "      <td>0.328704</td>\n",
              "      <td>0.170313</td>\n",
              "      <td>1</td>\n",
              "    </tr>\n",
              "    <tr>\n",
              "      <th>6999</th>\n",
              "      <td>0.781250</td>\n",
              "      <td>1</td>\n",
              "      <td>1</td>\n",
              "      <td>1</td>\n",
              "      <td>1</td>\n",
              "      <td>1</td>\n",
              "      <td>1</td>\n",
              "      <td>1</td>\n",
              "      <td>1</td>\n",
              "      <td>1</td>\n",
              "      <td>...</td>\n",
              "      <td>1</td>\n",
              "      <td>1</td>\n",
              "      <td>1</td>\n",
              "      <td>1</td>\n",
              "      <td>0.001604</td>\n",
              "      <td>0.109192</td>\n",
              "      <td>0.153846</td>\n",
              "      <td>0.162037</td>\n",
              "      <td>0.273438</td>\n",
              "      <td>1</td>\n",
              "    </tr>\n",
              "  </tbody>\n",
              "</table>\n",
              "<p>7000 rows × 22 columns</p>\n",
              "</div>"
            ],
            "text/plain": [
              "            0   1   2   3   4   5   6   7   8   9   ...  12  13  14  15  \\\n",
              "0     0.750000   1   0   1   1   1   1   1   0   1  ...   1   1   1   1   \n",
              "1     0.239583   1   1   1   1   1   1   1   1   1  ...   1   1   1   1   \n",
              "2     0.479167   1   1   1   1   1   1   1   1   1  ...   1   1   1   1   \n",
              "3     0.656250   0   1   1   1   1   1   1   1   1  ...   1   1   1   1   \n",
              "4     0.229167   1   1   1   1   1   1   1   1   1  ...   1   1   1   1   \n",
              "...        ...  ..  ..  ..  ..  ..  ..  ..  ..  ..  ...  ..  ..  ..  ..   \n",
              "6995  0.875000   1   1   1   1   1   1   1   1   1  ...   1   1   1   1   \n",
              "6996  0.218750   0   1   1   1   1   1   1   1   1  ...   1   1   1   1   \n",
              "6997  0.229167   1   1   1   1   1   1   1   1   1  ...   1   1   1   1   \n",
              "6998  0.531250   0   1   1   1   1   1   1   1   1  ...   1   1   1   0   \n",
              "6999  0.781250   1   1   1   1   1   1   1   1   1  ...   1   1   1   1   \n",
              "\n",
              "            16        17        18        19        20  21  \n",
              "0     0.001132  0.080780  0.197324  0.300926  0.225000   1  \n",
              "1     0.000472  0.164345  0.235786  0.537037  0.165625   1  \n",
              "2     0.003585  0.130919  0.167224  0.527778  0.118750   1  \n",
              "3     0.001698  0.091922  0.125418  0.337963  0.129688   1  \n",
              "4     0.000472  0.142061  0.229097  0.337963  0.235938   1  \n",
              "...        ...       ...       ...       ...       ...  ..  \n",
              "6995  0.060377  0.050696  0.088629  0.333333  0.093750  -1  \n",
              "6996  0.004340  0.097493  0.239130  0.347222  0.243750   1  \n",
              "6997  0.005094  0.109192  0.103679  0.291667  0.121875   1  \n",
              "6998  0.002830  0.109192  0.160535  0.328704  0.170313   1  \n",
              "6999  0.001604  0.109192  0.153846  0.162037  0.273438   1  \n",
              "\n",
              "[7000 rows x 22 columns]"
            ]
          },
          "execution_count": 2,
          "metadata": {},
          "output_type": "execute_result"
        }
      ],
      "source": [
        "filepath = \"http://web.uni-corvinus.hu/~fszabina/data/annthyroid-training.csv\"\n",
        "\n",
        "df = pd.read_csv(filepath, header=None)\n",
        "df"
      ]
    },
    {
      "cell_type": "markdown",
      "id": "42ed65a1",
      "metadata": {
        "papermill": {
          "duration": 0.006989,
          "end_time": "2023-06-06T09:11:30.317881",
          "exception": false,
          "start_time": "2023-06-06T09:11:30.310892",
          "status": "completed"
        },
        "tags": [],
        "id": "42ed65a1"
      },
      "source": [
        "Ellenőrizzük a hiányzó értékeket az adatállományban."
      ]
    },
    {
      "cell_type": "code",
      "execution_count": null,
      "id": "a6c73a3b",
      "metadata": {
        "execution": {
          "iopub.execute_input": "2023-06-06T09:11:30.334161Z",
          "iopub.status.busy": "2023-06-06T09:11:30.333766Z",
          "iopub.status.idle": "2023-06-06T09:11:30.341356Z",
          "shell.execute_reply": "2023-06-06T09:11:30.340408Z"
        },
        "papermill": {
          "duration": 0.018487,
          "end_time": "2023-06-06T09:11:30.343627",
          "exception": false,
          "start_time": "2023-06-06T09:11:30.325140",
          "status": "completed"
        },
        "tags": [],
        "id": "a6c73a3b",
        "outputId": "863c2fce-b0e2-4949-f307-f578913051a3"
      },
      "outputs": [
        {
          "name": "stdout",
          "output_type": "stream",
          "text": [
            "No missing data\n"
          ]
        }
      ],
      "source": [
        "if df.isnull().sum().sum()==0:\n",
        "    print(\"No missing data\")\n",
        "\n",
        "else:\n",
        "    print(\"Dataset with missing data\")\n",
        "    print(df.isnull().sum())"
      ]
    },
    {
      "cell_type": "markdown",
      "id": "398e2fe3",
      "metadata": {
        "papermill": {
          "duration": 0.007086,
          "end_time": "2023-06-06T09:11:30.358262",
          "exception": false,
          "start_time": "2023-06-06T09:11:30.351176",
          "status": "completed"
        },
        "tags": [],
        "id": "398e2fe3"
      },
      "source": [
        "X és y meghatározása a dataframe-ből, és ezen adatok felosztása a képzési halmazra és az érvényesítési halmazra."
      ]
    },
    {
      "cell_type": "code",
      "execution_count": null,
      "id": "b5ee6fd0",
      "metadata": {
        "execution": {
          "iopub.execute_input": "2023-06-06T09:11:30.375491Z",
          "iopub.status.busy": "2023-06-06T09:11:30.374546Z",
          "iopub.status.idle": "2023-06-06T09:11:30.383270Z",
          "shell.execute_reply": "2023-06-06T09:11:30.382285Z"
        },
        "papermill": {
          "duration": 0.019519,
          "end_time": "2023-06-06T09:11:30.385603",
          "exception": false,
          "start_time": "2023-06-06T09:11:30.366084",
          "status": "completed"
        },
        "tags": [],
        "id": "b5ee6fd0"
      },
      "outputs": [],
      "source": [
        "X = df.iloc[:,:-1]\n",
        "y = df[21]\n",
        "\n",
        "# splitting training and validation data\n",
        "train_X, valid_X, train_y, valid_y = train_test_split(X , y, train_size = 0.8, test_size = 0.2, random_state = 0)"
      ]
    },
    {
      "cell_type": "markdown",
      "id": "566a085d",
      "metadata": {
        "papermill": {
          "duration": 0.007277,
          "end_time": "2023-06-06T09:11:30.400720",
          "exception": false,
          "start_time": "2023-06-06T09:11:30.393443",
          "status": "completed"
        },
        "tags": [],
        "id": "566a085d"
      },
      "source": [
        "F1 érték elérése a modellek számára."
      ]
    },
    {
      "cell_type": "code",
      "execution_count": null,
      "id": "7d89f260",
      "metadata": {
        "execution": {
          "iopub.execute_input": "2023-06-06T09:11:30.417398Z",
          "iopub.status.busy": "2023-06-06T09:11:30.416974Z",
          "iopub.status.idle": "2023-06-06T09:11:30.422652Z",
          "shell.execute_reply": "2023-06-06T09:11:30.421708Z"
        },
        "papermill": {
          "duration": 0.016529,
          "end_time": "2023-06-06T09:11:30.424709",
          "exception": false,
          "start_time": "2023-06-06T09:11:30.408180",
          "status": "completed"
        },
        "tags": [],
        "id": "7d89f260"
      },
      "outputs": [],
      "source": [
        "def getF1(tn, fp, fn, tp):\n",
        "    accuracy = (tn+tp)/(tn+fn+fp+tp)\n",
        "\n",
        "    # sensitivity/recall - ratio between number of true positives and\n",
        "    # the number of all samples whose class is the positive one\n",
        "    sensitivity = tp/(tp+fn)\n",
        "\n",
        "    # specificity - true negative (correct negative predictions\n",
        "    # to actual negatives)\n",
        "    specificity = tn/(tn+fp)\n",
        "\n",
        "    # precision - ratio between number of true positives and\n",
        "    # number of all samples classified as positive\n",
        "    precision = tp/(tp+fp)\n",
        "\n",
        "    f1 = (2*(precision*sensitivity))/(precision+sensitivity)\n",
        "\n",
        "    return f1"
      ]
    },
    {
      "cell_type": "markdown",
      "id": "a52a69ea",
      "metadata": {
        "papermill": {
          "duration": 0.007227,
          "end_time": "2023-06-06T09:11:30.940939",
          "exception": false,
          "start_time": "2023-06-06T09:11:30.933712",
          "status": "completed"
        },
        "tags": [],
        "id": "a52a69ea"
      },
      "source": [
        "# K Nearest Neighbors"
      ]
    },
    {
      "cell_type": "code",
      "execution_count": null,
      "id": "2e75a498",
      "metadata": {
        "execution": {
          "iopub.execute_input": "2023-06-06T09:11:30.957402Z",
          "iopub.status.busy": "2023-06-06T09:11:30.956977Z",
          "iopub.status.idle": "2023-06-06T09:11:31.092210Z",
          "shell.execute_reply": "2023-06-06T09:11:31.090379Z"
        },
        "papermill": {
          "duration": 0.146479,
          "end_time": "2023-06-06T09:11:31.094905",
          "exception": false,
          "start_time": "2023-06-06T09:11:30.948426",
          "status": "completed"
        },
        "tags": [],
        "id": "2e75a498",
        "outputId": "0574168c-e652-45fc-b076-3b80a5031faf"
      },
      "outputs": [
        {
          "name": "stdout",
          "output_type": "stream",
          "text": [
            "True Negative: 34\n",
            "False Positive: 74\n",
            "False Negative: 6\n",
            "True Positive: 1286\n",
            "0.9698340874811462\n"
          ]
        }
      ],
      "source": [
        "model = KNeighborsClassifier()\n",
        "model.fit(train_X, train_y)\n",
        "predictions = model.predict(valid_X)\n",
        "\n",
        "tn, fp, fn, tp = confusion_matrix(valid_y.values, predictions).ravel()\n",
        "print(\"True Negative: {}\".format(tn))\n",
        "print(\"False Positive: {}\".format(fp))\n",
        "print(\"False Negative: {}\".format(fn))\n",
        "print(\"True Positive: {}\".format(tp))\n",
        "\n",
        "res_KNN = getF1(tn, fp, fn, tp)\n",
        "print(res_KNN)\n",
        "#dict_results['K Nearest Neighbors'] = res_KNN"
      ]
    },
    {
      "cell_type": "markdown",
      "id": "87c1b4f7",
      "metadata": {
        "papermill": {
          "duration": 0.007325,
          "end_time": "2023-06-06T09:11:31.110567",
          "exception": false,
          "start_time": "2023-06-06T09:11:31.103242",
          "status": "completed"
        },
        "tags": [],
        "id": "87c1b4f7"
      },
      "source": [
        "# Multilayer Perception"
      ]
    },
    {
      "cell_type": "code",
      "execution_count": null,
      "id": "d4571ab3",
      "metadata": {
        "execution": {
          "iopub.execute_input": "2023-06-06T09:11:31.128306Z",
          "iopub.status.busy": "2023-06-06T09:11:31.127898Z",
          "iopub.status.idle": "2023-06-06T09:11:45.386769Z",
          "shell.execute_reply": "2023-06-06T09:11:45.385618Z"
        },
        "papermill": {
          "duration": 14.271505,
          "end_time": "2023-06-06T09:11:45.389931",
          "exception": false,
          "start_time": "2023-06-06T09:11:31.118426",
          "status": "completed"
        },
        "tags": [],
        "id": "d4571ab3",
        "outputId": "dfe1ce9b-baea-4bd9-b71d-2847a327f974"
      },
      "outputs": [
        {
          "name": "stdout",
          "output_type": "stream",
          "text": [
            "True Negative: 102\n",
            "False Positive: 6\n",
            "False Negative: 10\n",
            "True Positive: 1282\n",
            "0.9937984496124032\n"
          ]
        }
      ],
      "source": [
        "model = MLPClassifier(random_state=0, max_iter=10000)\n",
        "# also tried a higher max iter value but f1 value did not increase\n",
        "# max iter fixed warning message\n",
        "\n",
        "model.fit(train_X, train_y)\n",
        "predictions = model.predict(valid_X)\n",
        "\n",
        "tn, fp, fn, tp = confusion_matrix(valid_y.values, predictions).ravel()\n",
        "print(\"True Negative: {}\".format(tn))\n",
        "print(\"False Positive: {}\".format(fp))\n",
        "print(\"False Negative: {}\".format(fn))\n",
        "print(\"True Positive: {}\".format(tp))\n",
        "\n",
        "res_MLP = getF1(tn, fp, fn, tp)\n",
        "print(res_MLP)\n",
        "#dict_results['Multilayer Perception'] = res_MLP"
      ]
    }
  ],
  "metadata": {
    "kernelspec": {
      "display_name": "Python 3",
      "language": "python",
      "name": "python3"
    },
    "language_info": {
      "codemirror_mode": {
        "name": "ipython",
        "version": 3
      },
      "file_extension": ".py",
      "mimetype": "text/x-python",
      "name": "python",
      "nbconvert_exporter": "python",
      "pygments_lexer": "ipython3",
      "version": "3.10.10"
    },
    "papermill": {
      "default_parameters": {},
      "duration": 128.872571,
      "end_time": "2023-06-06T09:13:26.789766",
      "environment_variables": {},
      "exception": null,
      "input_path": "__notebook__.ipynb",
      "output_path": "__notebook__.ipynb",
      "parameters": {},
      "start_time": "2023-06-06T09:11:17.917195",
      "version": "2.4.0"
    },
    "colab": {
      "provenance": [],
      "include_colab_link": true
    }
  },
  "nbformat": 4,
  "nbformat_minor": 5
}